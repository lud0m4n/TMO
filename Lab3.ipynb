{
 "cells": [
  {
   "cell_type": "markdown",
   "id": "61f0104c",
   "metadata": {},
   "source": [
    "# Задание лабораторной работы"
   ]
  },
  {
   "cell_type": "markdown",
   "id": "8a69da4b",
   "metadata": {},
   "source": [
    "- Выбрать набор данных (датасет) для решения задачи классификации или регрессии.\n",
    "- С использованием метода train_test_split разделить выборку на обучающую и тестовую.\n",
    "- Обучить модель ближайших соседей для произвольно заданного гиперпараметра K. Оценить качество модели с помощью подходящих для задачи метрик.\n",
    "- Произвести подбор гиперпараметра K с использованием GridSearchCV и/или RandomizedSearchCV и кросс-валидации, оценить качество оптимальной модели. Желательно использование нескольких стратегий кросс-валидации.\n",
    "- Сравнить метрики качества исходной и оптимальной моделей."
   ]
  },
  {
   "cell_type": "markdown",
   "id": "b60fced9",
   "metadata": {},
   "source": [
    "## Выбор и загрузка данных"
   ]
  },
  {
   "cell_type": "markdown",
   "id": "2aeedf3d",
   "metadata": {},
   "source": [
    "В качестве датасета будем использовать набор данных, содержащий данные различных химических элементов"
   ]
  },
  {
   "cell_type": "markdown",
   "id": "fe87c14c",
   "metadata": {},
   "source": [
    "Набор данных имеет следующие атрибуты:"
   ]
  },
  {
   "cell_type": "markdown",
   "id": "0c01e68e",
   "metadata": {},
   "source": [
    "- RI - Refractive Index - коэффициент преломления\n",
    "- Na - Sodium - Содержание натрия (массовый процент в соответствующем оксиде)\n",
    "- Mg - Magnesium - Содержание магния\n",
    "- Al - Aluminum - Содержание алюминия\n",
    "- Si - Silicon - Содержание кремния\n",
    "- K -  Potassium - Содержание калия\n",
    "- Ca - Calcium - Содержание кальция\n",
    "- Ba - Barium - Содеражние бария\n",
    "- Fe - Iron - Содержание железа\n",
    "- Type - Type of glass - тип стекла (1, 2 - стекла для зданий, 3, 4 - стекла для автомобилей, 5 - стеклотара, 6 - tableware - бытовые стекла, 7 - стекла для ламп; 4 отсутствует в данном наборе данных)"
   ]
  },
  {
   "cell_type": "markdown",
   "id": "6bfdc9dc",
   "metadata": {},
   "source": [
    "### Импорт библиотек"
   ]
  },
  {
   "cell_type": "markdown",
   "id": "1acbb3a0",
   "metadata": {},
   "source": [
    "Импортируем библиотеки с помощью команды import:"
   ]
  },
  {
   "cell_type": "code",
   "execution_count": 32,
   "id": "386d432d",
   "metadata": {},
   "outputs": [],
   "source": [
    "import numpy as np\n",
    "import pandas as pd\n",
    "import seaborn as sns\n",
    "import matplotlib.pyplot as plt\n",
    "%matplotlib inline\n",
    "sns.set(style=\"ticks\")"
   ]
  },
  {
   "cell_type": "markdown",
   "id": "1104311e",
   "metadata": {},
   "source": [
    "### Загрузка данных"
   ]
  },
  {
   "cell_type": "markdown",
   "id": "f0a50012",
   "metadata": {},
   "source": [
    "Загрузим набор данных:"
   ]
  },
  {
   "cell_type": "code",
   "execution_count": 33,
   "id": "3d6f1637",
   "metadata": {},
   "outputs": [],
   "source": [
    "data = pd.read_csv('glass.csv')"
   ]
  },
  {
   "cell_type": "markdown",
   "id": "60b499dd",
   "metadata": {},
   "source": [
    "## Первичный анализ и обрабока данных"
   ]
  },
  {
   "cell_type": "markdown",
   "id": "f8fb4fca",
   "metadata": {},
   "source": [
    "Выведем первые 5 строк датасета:"
   ]
  },
  {
   "cell_type": "code",
   "execution_count": 34,
   "id": "03f7dae5",
   "metadata": {},
   "outputs": [
    {
     "data": {
      "text/html": [
       "<div>\n",
       "<style scoped>\n",
       "    .dataframe tbody tr th:only-of-type {\n",
       "        vertical-align: middle;\n",
       "    }\n",
       "\n",
       "    .dataframe tbody tr th {\n",
       "        vertical-align: top;\n",
       "    }\n",
       "\n",
       "    .dataframe thead th {\n",
       "        text-align: right;\n",
       "    }\n",
       "</style>\n",
       "<table border=\"1\" class=\"dataframe\">\n",
       "  <thead>\n",
       "    <tr style=\"text-align: right;\">\n",
       "      <th></th>\n",
       "      <th>RI</th>\n",
       "      <th>Na</th>\n",
       "      <th>Mg</th>\n",
       "      <th>Al</th>\n",
       "      <th>Si</th>\n",
       "      <th>K</th>\n",
       "      <th>Ca</th>\n",
       "      <th>Ba</th>\n",
       "      <th>Fe</th>\n",
       "      <th>Type</th>\n",
       "    </tr>\n",
       "  </thead>\n",
       "  <tbody>\n",
       "    <tr>\n",
       "      <th>0</th>\n",
       "      <td>1.52101</td>\n",
       "      <td>13.64</td>\n",
       "      <td>4.49</td>\n",
       "      <td>1.10</td>\n",
       "      <td>71.78</td>\n",
       "      <td>0.06</td>\n",
       "      <td>8.75</td>\n",
       "      <td>0.0</td>\n",
       "      <td>0.0</td>\n",
       "      <td>1</td>\n",
       "    </tr>\n",
       "    <tr>\n",
       "      <th>1</th>\n",
       "      <td>1.51761</td>\n",
       "      <td>13.89</td>\n",
       "      <td>3.60</td>\n",
       "      <td>1.36</td>\n",
       "      <td>72.73</td>\n",
       "      <td>0.48</td>\n",
       "      <td>7.83</td>\n",
       "      <td>0.0</td>\n",
       "      <td>0.0</td>\n",
       "      <td>1</td>\n",
       "    </tr>\n",
       "    <tr>\n",
       "      <th>2</th>\n",
       "      <td>1.51618</td>\n",
       "      <td>13.53</td>\n",
       "      <td>3.55</td>\n",
       "      <td>1.54</td>\n",
       "      <td>72.99</td>\n",
       "      <td>0.39</td>\n",
       "      <td>7.78</td>\n",
       "      <td>0.0</td>\n",
       "      <td>0.0</td>\n",
       "      <td>1</td>\n",
       "    </tr>\n",
       "    <tr>\n",
       "      <th>3</th>\n",
       "      <td>1.51766</td>\n",
       "      <td>13.21</td>\n",
       "      <td>3.69</td>\n",
       "      <td>1.29</td>\n",
       "      <td>72.61</td>\n",
       "      <td>0.57</td>\n",
       "      <td>8.22</td>\n",
       "      <td>0.0</td>\n",
       "      <td>0.0</td>\n",
       "      <td>1</td>\n",
       "    </tr>\n",
       "    <tr>\n",
       "      <th>4</th>\n",
       "      <td>1.51742</td>\n",
       "      <td>13.27</td>\n",
       "      <td>3.62</td>\n",
       "      <td>1.24</td>\n",
       "      <td>73.08</td>\n",
       "      <td>0.55</td>\n",
       "      <td>8.07</td>\n",
       "      <td>0.0</td>\n",
       "      <td>0.0</td>\n",
       "      <td>1</td>\n",
       "    </tr>\n",
       "  </tbody>\n",
       "</table>\n",
       "</div>"
      ],
      "text/plain": [
       "        RI     Na    Mg    Al     Si     K    Ca   Ba   Fe  Type\n",
       "0  1.52101  13.64  4.49  1.10  71.78  0.06  8.75  0.0  0.0     1\n",
       "1  1.51761  13.89  3.60  1.36  72.73  0.48  7.83  0.0  0.0     1\n",
       "2  1.51618  13.53  3.55  1.54  72.99  0.39  7.78  0.0  0.0     1\n",
       "3  1.51766  13.21  3.69  1.29  72.61  0.57  8.22  0.0  0.0     1\n",
       "4  1.51742  13.27  3.62  1.24  73.08  0.55  8.07  0.0  0.0     1"
      ]
     },
     "execution_count": 34,
     "metadata": {},
     "output_type": "execute_result"
    }
   ],
   "source": [
    "data.head()"
   ]
  },
  {
   "cell_type": "markdown",
   "id": "121c4b68",
   "metadata": {},
   "source": [
    "Определим размер датасета и целевого признака (Type):"
   ]
  },
  {
   "cell_type": "code",
   "execution_count": 35,
   "id": "abbd46ff",
   "metadata": {},
   "outputs": [
    {
     "data": {
      "text/plain": [
       "((214, 10), (214,))"
      ]
     },
     "execution_count": 35,
     "metadata": {},
     "output_type": "execute_result"
    }
   ],
   "source": [
    "data.shape, data.Type.shape"
   ]
  },
  {
   "cell_type": "markdown",
   "id": "946095c6",
   "metadata": {},
   "source": [
    "### Разделение данных"
   ]
  },
  {
   "cell_type": "markdown",
   "id": "5e880992",
   "metadata": {},
   "source": [
    "Разделим данные на столбец с целевым признаком и данные с другими столбцами:"
   ]
  },
  {
   "cell_type": "code",
   "execution_count": 36,
   "id": "05c25a30",
   "metadata": {},
   "outputs": [],
   "source": [
    "X = data.drop(\"Type\", axis=1)\n",
    "y = data[\"Type\"]"
   ]
  },
  {
   "cell_type": "code",
   "execution_count": 37,
   "id": "cc7aff31",
   "metadata": {},
   "outputs": [
    {
     "name": "stdout",
     "output_type": "stream",
     "text": [
      "        RI     Na    Mg    Al     Si     K    Ca   Ba   Fe\n",
      "0  1.52101  13.64  4.49  1.10  71.78  0.06  8.75  0.0  0.0\n",
      "1  1.51761  13.89  3.60  1.36  72.73  0.48  7.83  0.0  0.0\n",
      "2  1.51618  13.53  3.55  1.54  72.99  0.39  7.78  0.0  0.0\n",
      "3  1.51766  13.21  3.69  1.29  72.61  0.57  8.22  0.0  0.0\n",
      "4  1.51742  13.27  3.62  1.24  73.08  0.55  8.07  0.0  0.0 \n",
      "\n",
      "0    1\n",
      "1    1\n",
      "2    1\n",
      "3    1\n",
      "4    1\n",
      "Name: Type, dtype: int64\n"
     ]
    }
   ],
   "source": [
    "print(X.head(), \"\\n\")\n",
    "print(y.head())"
   ]
  },
  {
   "cell_type": "code",
   "execution_count": 38,
   "id": "b83b06ca",
   "metadata": {},
   "outputs": [
    {
     "name": "stdout",
     "output_type": "stream",
     "text": [
      "(214, 9)\n",
      "(214,)\n"
     ]
    }
   ],
   "source": [
    "print(X.shape)\n",
    "print(y.shape)"
   ]
  },
  {
   "cell_type": "markdown",
   "id": "5ed046d6",
   "metadata": {},
   "source": [
    "### Разделение выборки на обучающую и тестовую"
   ]
  },
  {
   "cell_type": "markdown",
   "id": "81f048f1",
   "metadata": {},
   "source": [
    "Будем решать задачу классификации - отношения записи к определенному типу стекла."
   ]
  },
  {
   "cell_type": "markdown",
   "id": "19e89571",
   "metadata": {},
   "source": [
    "Разделим выборку с помощью функции train_test_split:"
   ]
  },
  {
   "cell_type": "code",
   "execution_count": 39,
   "id": "3103e1be",
   "metadata": {},
   "outputs": [],
   "source": [
    "from sklearn.model_selection import train_test_split"
   ]
  },
  {
   "cell_type": "code",
   "execution_count": 40,
   "id": "884d6305",
   "metadata": {},
   "outputs": [],
   "source": [
    "X_train, X_test, y_train, y_test = train_test_split(X, y, random_state=1)"
   ]
  },
  {
   "cell_type": "markdown",
   "id": "041c8834",
   "metadata": {},
   "source": [
    "Размеры обучающей выборки и тестовой выборки:"
   ]
  },
  {
   "cell_type": "code",
   "execution_count": 41,
   "id": "4575ae1e",
   "metadata": {},
   "outputs": [
    {
     "data": {
      "text/plain": [
       "((160, 9), (160,))"
      ]
     },
     "execution_count": 41,
     "metadata": {},
     "output_type": "execute_result"
    }
   ],
   "source": [
    "X_train.shape, y_train.shape"
   ]
  },
  {
   "cell_type": "code",
   "execution_count": 42,
   "id": "7bd2cd0d",
   "metadata": {},
   "outputs": [
    {
     "data": {
      "text/plain": [
       "((54, 9), (54,))"
      ]
     },
     "execution_count": 42,
     "metadata": {},
     "output_type": "execute_result"
    }
   ],
   "source": [
    "X_test.shape, y_test.shape"
   ]
  },
  {
   "cell_type": "markdown",
   "id": "fa1e2477",
   "metadata": {},
   "source": [
    "В выборках остались все типы стекол, доступные в изначальном датасете (4 отсутствует в исходном):"
   ]
  },
  {
   "cell_type": "code",
   "execution_count": 43,
   "id": "5c91e637",
   "metadata": {},
   "outputs": [
    {
     "data": {
      "text/plain": [
       "array([1, 2, 3, 5, 6, 7])"
      ]
     },
     "execution_count": 43,
     "metadata": {},
     "output_type": "execute_result"
    }
   ],
   "source": [
    "np.unique(y_train)"
   ]
  },
  {
   "cell_type": "code",
   "execution_count": 44,
   "id": "73c31b98",
   "metadata": {},
   "outputs": [
    {
     "data": {
      "text/plain": [
       "array([1, 2, 3, 5, 6, 7])"
      ]
     },
     "execution_count": 44,
     "metadata": {},
     "output_type": "execute_result"
    }
   ],
   "source": [
    "np.unique(y_test)"
   ]
  },
  {
   "cell_type": "markdown",
   "id": "9aa82f3a",
   "metadata": {},
   "source": [
    "Проверим распределение типов:"
   ]
  },
  {
   "cell_type": "code",
   "execution_count": 45,
   "id": "1097c099",
   "metadata": {},
   "outputs": [],
   "source": [
    "from typing import Dict, Tuple"
   ]
  },
  {
   "cell_type": "code",
   "execution_count": 46,
   "id": "b2e4cdf0",
   "metadata": {},
   "outputs": [],
   "source": [
    "def type_proportions(array: np.ndarray) -> Dict[int, Tuple[int, float]]:\n",
    "    labels, counts = np.unique(array, return_counts=True)\n",
    "    counts_perc = counts/array.size\n",
    "    res = dict()\n",
    "    for label, count2 in zip(labels, zip(counts, counts_perc)):\n",
    "        res[label] = count2\n",
    "    return res\n",
    "\n",
    "def print_type_proportions(array: np.ndarray):\n",
    "    proportions = type_proportions(array)\n",
    "    if len(proportions)>0:\n",
    "        print('Тип \\t Количество \\t Процент встречаемости')\n",
    "    for i in proportions:\n",
    "        val, val_perc = proportions[i]\n",
    "        val_perc_100 = round(val_perc * 100, 2)\n",
    "        print('{} \\t {} \\t \\t {}%'.format(i, val, val_perc_100))"
   ]
  },
  {
   "cell_type": "code",
   "execution_count": 47,
   "id": "e965c2e1",
   "metadata": {},
   "outputs": [
    {
     "name": "stdout",
     "output_type": "stream",
     "text": [
      "Тип \t Количество \t Процент встречаемости\n",
      "1 \t 70 \t \t 32.71%\n",
      "2 \t 76 \t \t 35.51%\n",
      "3 \t 17 \t \t 7.94%\n",
      "5 \t 13 \t \t 6.07%\n",
      "6 \t 9 \t \t 4.21%\n",
      "7 \t 29 \t \t 13.55%\n"
     ]
    }
   ],
   "source": [
    "print_type_proportions(data.Type)"
   ]
  },
  {
   "cell_type": "code",
   "execution_count": 48,
   "id": "69e75f6a",
   "metadata": {},
   "outputs": [
    {
     "name": "stdout",
     "output_type": "stream",
     "text": [
      "Тип \t Количество \t Процент встречаемости\n",
      "1 \t 47 \t \t 29.38%\n",
      "2 \t 60 \t \t 37.5%\n",
      "3 \t 10 \t \t 6.25%\n",
      "5 \t 12 \t \t 7.5%\n",
      "6 \t 8 \t \t 5.0%\n",
      "7 \t 23 \t \t 14.37%\n"
     ]
    }
   ],
   "source": [
    "print_type_proportions(y_train)"
   ]
  },
  {
   "cell_type": "code",
   "execution_count": 49,
   "id": "2566e248",
   "metadata": {},
   "outputs": [
    {
     "name": "stdout",
     "output_type": "stream",
     "text": [
      "Тип \t Количество \t Процент встречаемости\n",
      "1 \t 23 \t \t 42.59%\n",
      "2 \t 16 \t \t 29.63%\n",
      "3 \t 7 \t \t 12.96%\n",
      "5 \t 1 \t \t 1.85%\n",
      "6 \t 1 \t \t 1.85%\n",
      "7 \t 6 \t \t 11.11%\n"
     ]
    }
   ],
   "source": [
    "print_type_proportions(y_test)"
   ]
  },
  {
   "cell_type": "markdown",
   "id": "e5b57efe",
   "metadata": {},
   "source": [
    "Видим, что пропорции типов стекол приблизительно сохранились."
   ]
  },
  {
   "cell_type": "markdown",
   "id": "afa27ed8",
   "metadata": {},
   "source": [
    "## Построение модели ближайших соседей для произвольного гиперпараметра"
   ]
  },
  {
   "cell_type": "markdown",
   "id": "b7ee099b",
   "metadata": {},
   "source": [
    "Пусть гиперпараметр будет равен 20, построим модель:"
   ]
  },
  {
   "cell_type": "code",
   "execution_count": 50,
   "id": "77469fd9",
   "metadata": {},
   "outputs": [],
   "source": [
    "from sklearn.neighbors import KNeighborsClassifier"
   ]
  },
  {
   "cell_type": "code",
   "execution_count": 51,
   "id": "f926c220",
   "metadata": {},
   "outputs": [
    {
     "data": {
      "text/plain": [
       "(54,\n",
       " array([5, 7, 2, 2, 1, 1, 2, 1, 2, 1, 2, 1, 2, 1, 1, 2, 1, 1, 1, 1, 1, 7,\n",
       "        2, 1, 2, 1, 2, 2, 2, 1, 5, 7, 1, 1, 1, 1, 2, 2, 5, 1, 1, 7, 7, 1,\n",
       "        7, 1, 2, 1, 2, 7, 1, 2, 1, 2]))"
      ]
     },
     "execution_count": 51,
     "metadata": {},
     "output_type": "execute_result"
    }
   ],
   "source": [
    "clf_i = KNeighborsClassifier(n_neighbors=20)\n",
    "clf_i.fit(X_train, y_train)\n",
    "target_i = clf_i.predict(X_test)\n",
    "len(target_i), target_i"
   ]
  },
  {
   "cell_type": "markdown",
   "id": "eba1f865",
   "metadata": {},
   "source": [
    "Эту модель будем считать исходной."
   ]
  },
  {
   "cell_type": "markdown",
   "id": "ef99c81f",
   "metadata": {},
   "source": [
    "## Кросс-валидация и подбор гиперпараметра K через GridSearch и RandomizedSearch "
   ]
  },
  {
   "cell_type": "markdown",
   "id": "42fc89dd",
   "metadata": {},
   "source": [
    "### Кросс-валидация"
   ]
  },
  {
   "cell_type": "code",
   "execution_count": 52,
   "id": "44c80707",
   "metadata": {},
   "outputs": [],
   "source": [
    "from sklearn.model_selection import cross_val_score, cross_validate"
   ]
  },
  {
   "cell_type": "code",
   "execution_count": 53,
   "id": "3eededc6",
   "metadata": {},
   "outputs": [
    {
     "data": {
      "text/plain": [
       "array([0.91666667, 0.95774648, 0.95774648])"
      ]
     },
     "execution_count": 53,
     "metadata": {},
     "output_type": "execute_result"
    }
   ],
   "source": [
    "scores = cross_val_score(KNeighborsClassifier(n_neighbors=2), \n",
    "                         data, data.Type, cv=3)\n",
    "scores"
   ]
  },
  {
   "cell_type": "markdown",
   "id": "9d54b71c",
   "metadata": {},
   "source": [
    "С помощью функции cross_validate:"
   ]
  },
  {
   "cell_type": "code",
   "execution_count": 54,
   "id": "d8dc068a",
   "metadata": {},
   "outputs": [
    {
     "data": {
      "text/plain": [
       "{'fit_time': array([0.00898075, 0.00823617, 0.01349163]),\n",
       " 'score_time': array([0.11983967, 0.03248072, 0.02643132]),\n",
       " 'test_score': array([0.91673789, 0.95774648, 0.95301901]),\n",
       " 'train_score': array([0.9930479 , 0.98664493, 0.97930491])}"
      ]
     },
     "execution_count": 54,
     "metadata": {},
     "output_type": "execute_result"
    }
   ],
   "source": [
    "scoring = {'precision': 'precision_weighted', \n",
    "           'recall': 'recall_weighted',\n",
    "           'f1': 'f1_weighted'}\n",
    "scores = cross_validate(KNeighborsClassifier(n_neighbors=2), \n",
    "                        data, data.Type, scoring='f1_weighted', \n",
    "                        cv=3, return_train_score=True)\n",
    "scores"
   ]
  },
  {
   "cell_type": "markdown",
   "id": "8501d0e8",
   "metadata": {},
   "source": [
    "#### Стратегия K-Fold"
   ]
  },
  {
   "cell_type": "code",
   "execution_count": 55,
   "id": "26d80c1c",
   "metadata": {},
   "outputs": [],
   "source": [
    "from sklearn.model_selection import KFold"
   ]
  },
  {
   "cell_type": "code",
   "execution_count": 56,
   "id": "08fc8887",
   "metadata": {},
   "outputs": [
    {
     "data": {
      "text/plain": [
       "{'fit_time': array([0.027987  , 0.01700735, 0.00674582, 0.00575733, 0.00625443]),\n",
       " 'score_time': array([0.04608321, 0.02732158, 0.02304912, 0.01953483, 0.01906013]),\n",
       " 'test_score': array([1.        , 1.        , 0.925     , 0.46055632, 0.01858304])}"
      ]
     },
     "execution_count": 56,
     "metadata": {},
     "output_type": "execute_result"
    }
   ],
   "source": [
    "kf = KFold(n_splits=5)\n",
    "scores = cross_validate(KNeighborsClassifier(n_neighbors=2), \n",
    "                         data, data.Type, scoring='f1_weighted', \n",
    "                         cv=kf)\n",
    "scores"
   ]
  },
  {
   "cell_type": "markdown",
   "id": "1237b8b7",
   "metadata": {},
   "source": [
    "#### Стратегия Repeated K-Fold"
   ]
  },
  {
   "cell_type": "code",
   "execution_count": 57,
   "id": "db6c1ad0",
   "metadata": {},
   "outputs": [],
   "source": [
    "from sklearn.model_selection import RepeatedKFold"
   ]
  },
  {
   "cell_type": "code",
   "execution_count": 58,
   "id": "4f4644ed",
   "metadata": {},
   "outputs": [
    {
     "data": {
      "text/plain": [
       "{'fit_time': array([0.01520181, 0.01555824, 0.00670791, 0.00630975, 0.00595236,\n",
       "        0.0053575 ]),\n",
       " 'score_time': array([0.05896068, 0.03042698, 0.02766943, 0.02568245, 0.02405   ,\n",
       "        0.02369523]),\n",
       " 'test_score': array([0.91868687, 0.921645  , 0.9753291 , 0.94521605, 0.9370968 ,\n",
       "        0.94510593])}"
      ]
     },
     "execution_count": 58,
     "metadata": {},
     "output_type": "execute_result"
    }
   ],
   "source": [
    "kf = RepeatedKFold(n_splits=3, n_repeats=2)\n",
    "scores = cross_validate(KNeighborsClassifier(n_neighbors=2), \n",
    "                         data, data.Type, scoring='f1_weighted', \n",
    "                         cv=kf)\n",
    "scores"
   ]
  },
  {
   "cell_type": "markdown",
   "id": "51002ad7",
   "metadata": {},
   "source": [
    "#### Стратегия Leave One Out"
   ]
  },
  {
   "cell_type": "code",
   "execution_count": 59,
   "id": "3d09b539",
   "metadata": {},
   "outputs": [],
   "source": [
    "from sklearn.model_selection import LeaveOneOut"
   ]
  },
  {
   "cell_type": "code",
   "execution_count": 60,
   "id": "e41b1933",
   "metadata": {},
   "outputs": [
    {
     "data": {
      "text/plain": [
       "{'fit_time': array([0.03578186, 0.00669909, 0.00630093, 0.00847292, 0.00541091,\n",
       "        0.00532031, 0.00535321, 0.0053606 , 0.00645089, 0.00645471,\n",
       "        0.00560808, 0.00559449, 0.00556874, 0.0063405 , 0.00557494,\n",
       "        0.00637984, 0.00634527, 0.00568652, 0.0059824 , 0.00544405,\n",
       "        0.00557852, 0.00591636, 0.00551319, 0.00524998, 0.00543141,\n",
       "        0.0053091 , 0.0064292 , 0.00570416, 0.00578713, 0.00598073,\n",
       "        0.00619864, 0.00544357, 0.00555754, 0.00515294, 0.00535226,\n",
       "        0.00539136, 0.0060091 , 0.00648236, 0.00594258, 0.00555158,\n",
       "        0.0055337 , 0.00560069, 0.00593519, 0.00555706, 0.00617051,\n",
       "        0.00564647, 0.00556397, 0.00515246, 0.00535464, 0.00794601,\n",
       "        0.00599265, 0.01188445, 0.01548982, 0.00865102, 0.00695634,\n",
       "        0.00681329, 0.00855613, 0.00564146, 0.00615883, 0.00534225,\n",
       "        0.00602245, 0.00539374, 0.00590348, 0.00623226, 0.00557613,\n",
       "        0.00525212, 0.0055387 , 0.00553679, 0.00586033, 0.00601745,\n",
       "        0.00611854, 0.00591016, 0.00523067, 0.00562429, 0.00558233,\n",
       "        0.00552034, 0.00557256, 0.00549865, 0.0054915 , 0.00589061,\n",
       "        0.00605655, 0.00530219, 0.00581217, 0.00574708, 0.0055542 ,\n",
       "        0.00595188, 0.00615215, 0.0061512 , 0.00570917, 0.00538349,\n",
       "        0.00532675, 0.00533772, 0.0054903 , 0.00595069, 0.00618196,\n",
       "        0.00748539, 0.00587249, 0.00571704, 0.00539637, 0.00549436,\n",
       "        0.00541854, 0.00567627, 0.00559711, 0.00536013, 0.00543571,\n",
       "        0.0058465 , 0.00523472, 0.00605893, 0.00510263, 0.00675035,\n",
       "        0.0061276 , 0.00604272, 0.00572658, 0.0057621 , 0.0053463 ,\n",
       "        0.00594425, 0.00558186, 0.00537443, 0.0053432 , 0.00539613,\n",
       "        0.00581908, 0.0051074 , 0.00588179, 0.0060854 , 0.00578642,\n",
       "        0.00531149, 0.00560331, 0.00588489, 0.00597119, 0.00549197,\n",
       "        0.00562167, 0.00547194, 0.00562811, 0.0055325 , 0.00521755,\n",
       "        0.00506711, 0.00530457, 0.0055294 , 0.00535107, 0.00527692,\n",
       "        0.00530815, 0.00599003, 0.00513101, 0.00582671, 0.00615788,\n",
       "        0.00597715, 0.0059278 , 0.00572085, 0.00575256, 0.0052352 ,\n",
       "        0.00546217, 0.00568771, 0.00565696, 0.00547147, 0.00536895,\n",
       "        0.00530219, 0.00533104, 0.00563049, 0.00513172, 0.00590444,\n",
       "        0.00603819, 0.00577784, 0.00572014, 0.0052278 , 0.00573587,\n",
       "        0.00569344, 0.00554633, 0.00536919, 0.0059638 , 0.00650883,\n",
       "        0.01139617, 0.00758386, 0.00528431, 0.00599766, 0.00603127,\n",
       "        0.00591159, 0.00565267, 0.00542021, 0.00580668, 0.00595069,\n",
       "        0.00521851, 0.00561213, 0.00535822, 0.0053637 , 0.00569463,\n",
       "        0.00561452, 0.0053463 , 0.00533938, 0.00539589, 0.00515747,\n",
       "        0.00532413, 0.00563145, 0.00594711, 0.00513315, 0.00573325,\n",
       "        0.00591946, 0.00615025, 0.00588393, 0.00569177, 0.00567341,\n",
       "        0.00561237, 0.00537539, 0.0057354 , 0.00565052, 0.00526881,\n",
       "        0.00541711, 0.00531864, 0.00552011, 0.00521278, 0.00549054,\n",
       "        0.00570726, 0.00511694, 0.00524497, 0.00569367]),\n",
       " 'score_time': array([0.03888988, 0.0143888 , 0.01450706, 0.01087594, 0.01240516,\n",
       "        0.01177192, 0.01136971, 0.01956344, 0.01288033, 0.01261854,\n",
       "        0.01139045, 0.01078081, 0.01260448, 0.01239848, 0.01173115,\n",
       "        0.01126337, 0.01113725, 0.01127911, 0.01247382, 0.01187921,\n",
       "        0.01158166, 0.01049566, 0.01147127, 0.01180363, 0.01153088,\n",
       "        0.01191688, 0.01240563, 0.01208591, 0.01054835, 0.01081586,\n",
       "        0.0109663 , 0.01127148, 0.01197314, 0.01145816, 0.01157308,\n",
       "        0.01197743, 0.01190257, 0.01152277, 0.01143479, 0.01095915,\n",
       "        0.01148725, 0.01060891, 0.01136303, 0.01040983, 0.01173258,\n",
       "        0.01154661, 0.01070428, 0.01165986, 0.01157618, 0.01247168,\n",
       "        0.01307106, 0.01638842, 0.0189352 , 0.01513672, 0.0196023 ,\n",
       "        0.01857948, 0.01730728, 0.01378155, 0.01103711, 0.01169276,\n",
       "        0.01387358, 0.01413226, 0.01182103, 0.01175785, 0.01173401,\n",
       "        0.01148415, 0.01183438, 0.01280713, 0.01132751, 0.01095939,\n",
       "        0.01123476, 0.01169133, 0.01491261, 0.01155519, 0.01176476,\n",
       "        0.01105213, 0.01172543, 0.01151466, 0.01079512, 0.01129842,\n",
       "        0.01169944, 0.01293182, 0.01111197, 0.01155066, 0.010571  ,\n",
       "        0.01069236, 0.01134944, 0.01145792, 0.01179624, 0.01181936,\n",
       "        0.011904  , 0.01152134, 0.01114535, 0.01123381, 0.01093411,\n",
       "        0.01115656, 0.01152897, 0.01067185, 0.01144075, 0.01148891,\n",
       "        0.01216054, 0.01137686, 0.01084828, 0.01169872, 0.0122633 ,\n",
       "        0.01131821, 0.01177907, 0.01103616, 0.01077557, 0.01146388,\n",
       "        0.01107216, 0.01159024, 0.01094222, 0.01164222, 0.01107907,\n",
       "        0.01190281, 0.01109505, 0.01168251, 0.01180387, 0.01150227,\n",
       "        0.01141238, 0.0107851 , 0.0111208 , 0.01138258, 0.01049423,\n",
       "        0.01098347, 0.01077199, 0.01070523, 0.01130056, 0.01038361,\n",
       "        0.01097822, 0.01102114, 0.01144195, 0.01068878, 0.01099777,\n",
       "        0.01140356, 0.01122141, 0.01153445, 0.01122856, 0.01158023,\n",
       "        0.01181364, 0.01114726, 0.01078367, 0.01169968, 0.01103568,\n",
       "        0.01108623, 0.011482  , 0.01113081, 0.01163244, 0.01131153,\n",
       "        0.01120925, 0.01105022, 0.01180196, 0.01052094, 0.01257396,\n",
       "        0.01168537, 0.01153612, 0.01242471, 0.01082134, 0.01111031,\n",
       "        0.01101065, 0.0116694 , 0.01085591, 0.01134944, 0.01111555,\n",
       "        0.01117826, 0.01045561, 0.01162219, 0.01225233, 0.0147934 ,\n",
       "        0.01494837, 0.01373243, 0.01064754, 0.01178598, 0.01128268,\n",
       "        0.01170111, 0.01059103, 0.01135826, 0.01064014, 0.01060891,\n",
       "        0.01072049, 0.01123357, 0.01161551, 0.01098657, 0.01130891,\n",
       "        0.01048326, 0.01167679, 0.01147723, 0.01064324, 0.01123881,\n",
       "        0.01148295, 0.0113337 , 0.01111388, 0.01062179, 0.01066136,\n",
       "        0.01154828, 0.01073909, 0.01158166, 0.01074457, 0.01217413,\n",
       "        0.01129675, 0.01095319, 0.01136327, 0.01038599, 0.01146626,\n",
       "        0.01160502, 0.01134348, 0.01156783, 0.01052761, 0.01164865,\n",
       "        0.01133537, 0.01190758, 0.01064014, 0.01208711]),\n",
       " 'test_score': array([1., 1., 1., 1., 1., 1., 1., 1., 1., 1., 1., 1., 1., 1., 1., 1., 1.,\n",
       "        1., 1., 1., 1., 1., 1., 1., 1., 1., 1., 1., 1., 1., 1., 1., 1., 1.,\n",
       "        1., 1., 1., 1., 1., 1., 1., 1., 1., 1., 1., 1., 1., 1., 1., 1., 1.,\n",
       "        1., 1., 1., 1., 1., 1., 1., 1., 1., 1., 1., 1., 1., 1., 1., 1., 1.,\n",
       "        1., 1., 1., 1., 1., 1., 1., 1., 1., 1., 1., 1., 1., 1., 1., 1., 1.,\n",
       "        1., 1., 1., 1., 1., 1., 1., 1., 1., 1., 1., 1., 1., 1., 1., 1., 1.,\n",
       "        1., 0., 1., 1., 1., 1., 1., 1., 1., 1., 1., 1., 1., 1., 1., 1., 1.,\n",
       "        1., 1., 1., 1., 1., 1., 1., 1., 1., 1., 1., 1., 1., 1., 1., 1., 1.,\n",
       "        1., 1., 1., 1., 1., 1., 1., 1., 1., 1., 1., 1., 1., 1., 1., 1., 1.,\n",
       "        1., 1., 1., 1., 1., 1., 1., 1., 1., 1., 0., 1., 1., 1., 1., 1., 1.,\n",
       "        1., 1., 1., 1., 1., 1., 1., 1., 1., 1., 0., 1., 0., 0., 1., 1., 0.,\n",
       "        0., 0., 0., 0., 1., 1., 1., 1., 1., 1., 1., 1., 1., 1., 0., 1., 1.,\n",
       "        1., 1., 1., 1., 1., 1., 1., 1., 1., 1.])}"
      ]
     },
     "execution_count": 60,
     "metadata": {},
     "output_type": "execute_result"
    }
   ],
   "source": [
    "kf = LeaveOneOut()\n",
    "scores = cross_validate(KNeighborsClassifier(n_neighbors=2), \n",
    "                         data, data.Type, scoring='f1_weighted', \n",
    "                         cv=kf)\n",
    "scores"
   ]
  },
  {
   "cell_type": "markdown",
   "id": "16c300bd",
   "metadata": {},
   "source": [
    "#### Стратегия Leave P Out"
   ]
  },
  {
   "cell_type": "code",
   "execution_count": 61,
   "id": "c8a846c5",
   "metadata": {},
   "outputs": [],
   "source": [
    "from sklearn.model_selection import LeavePOut"
   ]
  },
  {
   "cell_type": "code",
   "execution_count": 62,
   "id": "d3b0c7e6",
   "metadata": {},
   "outputs": [],
   "source": [
    "# kf = LeavePOut(2)\n",
    "# scores = cross_validate(KNeighborsClassifier(n_neighbors=2), \n",
    "#                          data, data.Type, scoring='f1_weighted', \n",
    "#                          cv=kf)\n",
    "# scores"
   ]
  },
  {
   "cell_type": "markdown",
   "id": "97e075dd",
   "metadata": {},
   "source": [
    "#### Стратегия ShuffleSplit"
   ]
  },
  {
   "cell_type": "code",
   "execution_count": 63,
   "id": "942bdbda",
   "metadata": {},
   "outputs": [],
   "source": [
    "from sklearn.model_selection import ShuffleSplit"
   ]
  },
  {
   "cell_type": "code",
   "execution_count": 64,
   "id": "1698debf",
   "metadata": {},
   "outputs": [
    {
     "data": {
      "text/plain": [
       "{'fit_time': array([0.0304687 , 0.01977015, 0.00665188, 0.00678587, 0.00685263]),\n",
       " 'score_time': array([0.11784983, 0.05756354, 0.02650261, 0.05814195, 0.05111051]),\n",
       " 'test_score': array([0.93129175, 0.9260101 , 0.94203458, 0.94372042, 0.92688793])}"
      ]
     },
     "execution_count": 64,
     "metadata": {},
     "output_type": "execute_result"
    }
   ],
   "source": [
    "kf = ShuffleSplit(n_splits=5, test_size=0.25)\n",
    "scores = cross_validate(KNeighborsClassifier(n_neighbors=2), \n",
    "                         data, data.Type, scoring='f1_weighted', \n",
    "                         cv=kf)\n",
    "scores"
   ]
  },
  {
   "cell_type": "markdown",
   "id": "db4d9d34",
   "metadata": {},
   "source": [
    "#### Стратегия StratifiedKFold"
   ]
  },
  {
   "cell_type": "code",
   "execution_count": 65,
   "id": "014328c5",
   "metadata": {},
   "outputs": [],
   "source": [
    "from sklearn.model_selection import StratifiedKFold"
   ]
  },
  {
   "cell_type": "code",
   "execution_count": 66,
   "id": "f8867130",
   "metadata": {},
   "outputs": [
    {
     "data": {
      "text/plain": [
       "{'fit_time': array([0.05290556, 0.0070343 , 0.0111239 ]),\n",
       " 'score_time': array([0.04629564, 0.04837513, 0.03204274]),\n",
       " 'test_score': array([0.91673789, 0.95774648, 0.95301901])}"
      ]
     },
     "execution_count": 66,
     "metadata": {},
     "output_type": "execute_result"
    }
   ],
   "source": [
    "skf = StratifiedKFold(n_splits=3)\n",
    "scores = cross_validate(KNeighborsClassifier(n_neighbors=2), \n",
    "                         data, data.Type, scoring='f1_weighted', \n",
    "                         cv=skf)\n",
    "scores"
   ]
  },
  {
   "cell_type": "markdown",
   "id": "219b8016",
   "metadata": {},
   "source": [
    "### Оптимизация гиперпараметра"
   ]
  },
  {
   "cell_type": "markdown",
   "id": "9e121338",
   "metadata": {},
   "source": [
    "#### Через GridSearch"
   ]
  },
  {
   "cell_type": "code",
   "execution_count": 67,
   "id": "a6b89f21",
   "metadata": {},
   "outputs": [],
   "source": [
    "from sklearn.model_selection import GridSearchCV"
   ]
  },
  {
   "cell_type": "code",
   "execution_count": 68,
   "id": "2047c6a1",
   "metadata": {},
   "outputs": [
    {
     "data": {
      "text/plain": [
       "[{'n_neighbors': array([ 5, 10, 15, 20, 25, 30, 35, 40, 45, 50])}]"
      ]
     },
     "execution_count": 68,
     "metadata": {},
     "output_type": "execute_result"
    }
   ],
   "source": [
    "n_range = np.array(range(5,55,5))\n",
    "tuned_parameters = [{'n_neighbors': n_range}]\n",
    "tuned_parameters"
   ]
  },
  {
   "cell_type": "code",
   "execution_count": 69,
   "id": "29ce78f2",
   "metadata": {},
   "outputs": [
    {
     "name": "stdout",
     "output_type": "stream",
     "text": [
      "CPU times: user 1.08 s, sys: 24.9 ms, total: 1.11 s\n",
      "Wall time: 1.56 s\n"
     ]
    },
    {
     "data": {
      "text/html": [
       "<style>#sk-container-id-1 {\n",
       "  /* Definition of color scheme common for light and dark mode */\n",
       "  --sklearn-color-text: black;\n",
       "  --sklearn-color-line: gray;\n",
       "  /* Definition of color scheme for unfitted estimators */\n",
       "  --sklearn-color-unfitted-level-0: #fff5e6;\n",
       "  --sklearn-color-unfitted-level-1: #f6e4d2;\n",
       "  --sklearn-color-unfitted-level-2: #ffe0b3;\n",
       "  --sklearn-color-unfitted-level-3: chocolate;\n",
       "  /* Definition of color scheme for fitted estimators */\n",
       "  --sklearn-color-fitted-level-0: #f0f8ff;\n",
       "  --sklearn-color-fitted-level-1: #d4ebff;\n",
       "  --sklearn-color-fitted-level-2: #b3dbfd;\n",
       "  --sklearn-color-fitted-level-3: cornflowerblue;\n",
       "\n",
       "  /* Specific color for light theme */\n",
       "  --sklearn-color-text-on-default-background: var(--sg-text-color, var(--theme-code-foreground, var(--jp-content-font-color1, black)));\n",
       "  --sklearn-color-background: var(--sg-background-color, var(--theme-background, var(--jp-layout-color0, white)));\n",
       "  --sklearn-color-border-box: var(--sg-text-color, var(--theme-code-foreground, var(--jp-content-font-color1, black)));\n",
       "  --sklearn-color-icon: #696969;\n",
       "\n",
       "  @media (prefers-color-scheme: dark) {\n",
       "    /* Redefinition of color scheme for dark theme */\n",
       "    --sklearn-color-text-on-default-background: var(--sg-text-color, var(--theme-code-foreground, var(--jp-content-font-color1, white)));\n",
       "    --sklearn-color-background: var(--sg-background-color, var(--theme-background, var(--jp-layout-color0, #111)));\n",
       "    --sklearn-color-border-box: var(--sg-text-color, var(--theme-code-foreground, var(--jp-content-font-color1, white)));\n",
       "    --sklearn-color-icon: #878787;\n",
       "  }\n",
       "}\n",
       "\n",
       "#sk-container-id-1 {\n",
       "  color: var(--sklearn-color-text);\n",
       "}\n",
       "\n",
       "#sk-container-id-1 pre {\n",
       "  padding: 0;\n",
       "}\n",
       "\n",
       "#sk-container-id-1 input.sk-hidden--visually {\n",
       "  border: 0;\n",
       "  clip: rect(1px 1px 1px 1px);\n",
       "  clip: rect(1px, 1px, 1px, 1px);\n",
       "  height: 1px;\n",
       "  margin: -1px;\n",
       "  overflow: hidden;\n",
       "  padding: 0;\n",
       "  position: absolute;\n",
       "  width: 1px;\n",
       "}\n",
       "\n",
       "#sk-container-id-1 div.sk-dashed-wrapped {\n",
       "  border: 1px dashed var(--sklearn-color-line);\n",
       "  margin: 0 0.4em 0.5em 0.4em;\n",
       "  box-sizing: border-box;\n",
       "  padding-bottom: 0.4em;\n",
       "  background-color: var(--sklearn-color-background);\n",
       "}\n",
       "\n",
       "#sk-container-id-1 div.sk-container {\n",
       "  /* jupyter's `normalize.less` sets `[hidden] { display: none; }`\n",
       "     but bootstrap.min.css set `[hidden] { display: none !important; }`\n",
       "     so we also need the `!important` here to be able to override the\n",
       "     default hidden behavior on the sphinx rendered scikit-learn.org.\n",
       "     See: https://github.com/scikit-learn/scikit-learn/issues/21755 */\n",
       "  display: inline-block !important;\n",
       "  position: relative;\n",
       "}\n",
       "\n",
       "#sk-container-id-1 div.sk-text-repr-fallback {\n",
       "  display: none;\n",
       "}\n",
       "\n",
       "div.sk-parallel-item,\n",
       "div.sk-serial,\n",
       "div.sk-item {\n",
       "  /* draw centered vertical line to link estimators */\n",
       "  background-image: linear-gradient(var(--sklearn-color-text-on-default-background), var(--sklearn-color-text-on-default-background));\n",
       "  background-size: 2px 100%;\n",
       "  background-repeat: no-repeat;\n",
       "  background-position: center center;\n",
       "}\n",
       "\n",
       "/* Parallel-specific style estimator block */\n",
       "\n",
       "#sk-container-id-1 div.sk-parallel-item::after {\n",
       "  content: \"\";\n",
       "  width: 100%;\n",
       "  border-bottom: 2px solid var(--sklearn-color-text-on-default-background);\n",
       "  flex-grow: 1;\n",
       "}\n",
       "\n",
       "#sk-container-id-1 div.sk-parallel {\n",
       "  display: flex;\n",
       "  align-items: stretch;\n",
       "  justify-content: center;\n",
       "  background-color: var(--sklearn-color-background);\n",
       "  position: relative;\n",
       "}\n",
       "\n",
       "#sk-container-id-1 div.sk-parallel-item {\n",
       "  display: flex;\n",
       "  flex-direction: column;\n",
       "}\n",
       "\n",
       "#sk-container-id-1 div.sk-parallel-item:first-child::after {\n",
       "  align-self: flex-end;\n",
       "  width: 50%;\n",
       "}\n",
       "\n",
       "#sk-container-id-1 div.sk-parallel-item:last-child::after {\n",
       "  align-self: flex-start;\n",
       "  width: 50%;\n",
       "}\n",
       "\n",
       "#sk-container-id-1 div.sk-parallel-item:only-child::after {\n",
       "  width: 0;\n",
       "}\n",
       "\n",
       "/* Serial-specific style estimator block */\n",
       "\n",
       "#sk-container-id-1 div.sk-serial {\n",
       "  display: flex;\n",
       "  flex-direction: column;\n",
       "  align-items: center;\n",
       "  background-color: var(--sklearn-color-background);\n",
       "  padding-right: 1em;\n",
       "  padding-left: 1em;\n",
       "}\n",
       "\n",
       "\n",
       "/* Toggleable style: style used for estimator/Pipeline/ColumnTransformer box that is\n",
       "clickable and can be expanded/collapsed.\n",
       "- Pipeline and ColumnTransformer use this feature and define the default style\n",
       "- Estimators will overwrite some part of the style using the `sk-estimator` class\n",
       "*/\n",
       "\n",
       "/* Pipeline and ColumnTransformer style (default) */\n",
       "\n",
       "#sk-container-id-1 div.sk-toggleable {\n",
       "  /* Default theme specific background. It is overwritten whether we have a\n",
       "  specific estimator or a Pipeline/ColumnTransformer */\n",
       "  background-color: var(--sklearn-color-background);\n",
       "}\n",
       "\n",
       "/* Toggleable label */\n",
       "#sk-container-id-1 label.sk-toggleable__label {\n",
       "  cursor: pointer;\n",
       "  display: block;\n",
       "  width: 100%;\n",
       "  margin-bottom: 0;\n",
       "  padding: 0.5em;\n",
       "  box-sizing: border-box;\n",
       "  text-align: center;\n",
       "}\n",
       "\n",
       "#sk-container-id-1 label.sk-toggleable__label-arrow:before {\n",
       "  /* Arrow on the left of the label */\n",
       "  content: \"▸\";\n",
       "  float: left;\n",
       "  margin-right: 0.25em;\n",
       "  color: var(--sklearn-color-icon);\n",
       "}\n",
       "\n",
       "#sk-container-id-1 label.sk-toggleable__label-arrow:hover:before {\n",
       "  color: var(--sklearn-color-text);\n",
       "}\n",
       "\n",
       "/* Toggleable content - dropdown */\n",
       "\n",
       "#sk-container-id-1 div.sk-toggleable__content {\n",
       "  max-height: 0;\n",
       "  max-width: 0;\n",
       "  overflow: hidden;\n",
       "  text-align: left;\n",
       "  /* unfitted */\n",
       "  background-color: var(--sklearn-color-unfitted-level-0);\n",
       "}\n",
       "\n",
       "#sk-container-id-1 div.sk-toggleable__content.fitted {\n",
       "  /* fitted */\n",
       "  background-color: var(--sklearn-color-fitted-level-0);\n",
       "}\n",
       "\n",
       "#sk-container-id-1 div.sk-toggleable__content pre {\n",
       "  margin: 0.2em;\n",
       "  border-radius: 0.25em;\n",
       "  color: var(--sklearn-color-text);\n",
       "  /* unfitted */\n",
       "  background-color: var(--sklearn-color-unfitted-level-0);\n",
       "}\n",
       "\n",
       "#sk-container-id-1 div.sk-toggleable__content.fitted pre {\n",
       "  /* unfitted */\n",
       "  background-color: var(--sklearn-color-fitted-level-0);\n",
       "}\n",
       "\n",
       "#sk-container-id-1 input.sk-toggleable__control:checked~div.sk-toggleable__content {\n",
       "  /* Expand drop-down */\n",
       "  max-height: 200px;\n",
       "  max-width: 100%;\n",
       "  overflow: auto;\n",
       "}\n",
       "\n",
       "#sk-container-id-1 input.sk-toggleable__control:checked~label.sk-toggleable__label-arrow:before {\n",
       "  content: \"▾\";\n",
       "}\n",
       "\n",
       "/* Pipeline/ColumnTransformer-specific style */\n",
       "\n",
       "#sk-container-id-1 div.sk-label input.sk-toggleable__control:checked~label.sk-toggleable__label {\n",
       "  color: var(--sklearn-color-text);\n",
       "  background-color: var(--sklearn-color-unfitted-level-2);\n",
       "}\n",
       "\n",
       "#sk-container-id-1 div.sk-label.fitted input.sk-toggleable__control:checked~label.sk-toggleable__label {\n",
       "  background-color: var(--sklearn-color-fitted-level-2);\n",
       "}\n",
       "\n",
       "/* Estimator-specific style */\n",
       "\n",
       "/* Colorize estimator box */\n",
       "#sk-container-id-1 div.sk-estimator input.sk-toggleable__control:checked~label.sk-toggleable__label {\n",
       "  /* unfitted */\n",
       "  background-color: var(--sklearn-color-unfitted-level-2);\n",
       "}\n",
       "\n",
       "#sk-container-id-1 div.sk-estimator.fitted input.sk-toggleable__control:checked~label.sk-toggleable__label {\n",
       "  /* fitted */\n",
       "  background-color: var(--sklearn-color-fitted-level-2);\n",
       "}\n",
       "\n",
       "#sk-container-id-1 div.sk-label label.sk-toggleable__label,\n",
       "#sk-container-id-1 div.sk-label label {\n",
       "  /* The background is the default theme color */\n",
       "  color: var(--sklearn-color-text-on-default-background);\n",
       "}\n",
       "\n",
       "/* On hover, darken the color of the background */\n",
       "#sk-container-id-1 div.sk-label:hover label.sk-toggleable__label {\n",
       "  color: var(--sklearn-color-text);\n",
       "  background-color: var(--sklearn-color-unfitted-level-2);\n",
       "}\n",
       "\n",
       "/* Label box, darken color on hover, fitted */\n",
       "#sk-container-id-1 div.sk-label.fitted:hover label.sk-toggleable__label.fitted {\n",
       "  color: var(--sklearn-color-text);\n",
       "  background-color: var(--sklearn-color-fitted-level-2);\n",
       "}\n",
       "\n",
       "/* Estimator label */\n",
       "\n",
       "#sk-container-id-1 div.sk-label label {\n",
       "  font-family: monospace;\n",
       "  font-weight: bold;\n",
       "  display: inline-block;\n",
       "  line-height: 1.2em;\n",
       "}\n",
       "\n",
       "#sk-container-id-1 div.sk-label-container {\n",
       "  text-align: center;\n",
       "}\n",
       "\n",
       "/* Estimator-specific */\n",
       "#sk-container-id-1 div.sk-estimator {\n",
       "  font-family: monospace;\n",
       "  border: 1px dotted var(--sklearn-color-border-box);\n",
       "  border-radius: 0.25em;\n",
       "  box-sizing: border-box;\n",
       "  margin-bottom: 0.5em;\n",
       "  /* unfitted */\n",
       "  background-color: var(--sklearn-color-unfitted-level-0);\n",
       "}\n",
       "\n",
       "#sk-container-id-1 div.sk-estimator.fitted {\n",
       "  /* fitted */\n",
       "  background-color: var(--sklearn-color-fitted-level-0);\n",
       "}\n",
       "\n",
       "/* on hover */\n",
       "#sk-container-id-1 div.sk-estimator:hover {\n",
       "  /* unfitted */\n",
       "  background-color: var(--sklearn-color-unfitted-level-2);\n",
       "}\n",
       "\n",
       "#sk-container-id-1 div.sk-estimator.fitted:hover {\n",
       "  /* fitted */\n",
       "  background-color: var(--sklearn-color-fitted-level-2);\n",
       "}\n",
       "\n",
       "/* Specification for estimator info (e.g. \"i\" and \"?\") */\n",
       "\n",
       "/* Common style for \"i\" and \"?\" */\n",
       "\n",
       ".sk-estimator-doc-link,\n",
       "a:link.sk-estimator-doc-link,\n",
       "a:visited.sk-estimator-doc-link {\n",
       "  float: right;\n",
       "  font-size: smaller;\n",
       "  line-height: 1em;\n",
       "  font-family: monospace;\n",
       "  background-color: var(--sklearn-color-background);\n",
       "  border-radius: 1em;\n",
       "  height: 1em;\n",
       "  width: 1em;\n",
       "  text-decoration: none !important;\n",
       "  margin-left: 1ex;\n",
       "  /* unfitted */\n",
       "  border: var(--sklearn-color-unfitted-level-1) 1pt solid;\n",
       "  color: var(--sklearn-color-unfitted-level-1);\n",
       "}\n",
       "\n",
       ".sk-estimator-doc-link.fitted,\n",
       "a:link.sk-estimator-doc-link.fitted,\n",
       "a:visited.sk-estimator-doc-link.fitted {\n",
       "  /* fitted */\n",
       "  border: var(--sklearn-color-fitted-level-1) 1pt solid;\n",
       "  color: var(--sklearn-color-fitted-level-1);\n",
       "}\n",
       "\n",
       "/* On hover */\n",
       "div.sk-estimator:hover .sk-estimator-doc-link:hover,\n",
       ".sk-estimator-doc-link:hover,\n",
       "div.sk-label-container:hover .sk-estimator-doc-link:hover,\n",
       ".sk-estimator-doc-link:hover {\n",
       "  /* unfitted */\n",
       "  background-color: var(--sklearn-color-unfitted-level-3);\n",
       "  color: var(--sklearn-color-background);\n",
       "  text-decoration: none;\n",
       "}\n",
       "\n",
       "div.sk-estimator.fitted:hover .sk-estimator-doc-link.fitted:hover,\n",
       ".sk-estimator-doc-link.fitted:hover,\n",
       "div.sk-label-container:hover .sk-estimator-doc-link.fitted:hover,\n",
       ".sk-estimator-doc-link.fitted:hover {\n",
       "  /* fitted */\n",
       "  background-color: var(--sklearn-color-fitted-level-3);\n",
       "  color: var(--sklearn-color-background);\n",
       "  text-decoration: none;\n",
       "}\n",
       "\n",
       "/* Span, style for the box shown on hovering the info icon */\n",
       ".sk-estimator-doc-link span {\n",
       "  display: none;\n",
       "  z-index: 9999;\n",
       "  position: relative;\n",
       "  font-weight: normal;\n",
       "  right: .2ex;\n",
       "  padding: .5ex;\n",
       "  margin: .5ex;\n",
       "  width: min-content;\n",
       "  min-width: 20ex;\n",
       "  max-width: 50ex;\n",
       "  color: var(--sklearn-color-text);\n",
       "  box-shadow: 2pt 2pt 4pt #999;\n",
       "  /* unfitted */\n",
       "  background: var(--sklearn-color-unfitted-level-0);\n",
       "  border: .5pt solid var(--sklearn-color-unfitted-level-3);\n",
       "}\n",
       "\n",
       ".sk-estimator-doc-link.fitted span {\n",
       "  /* fitted */\n",
       "  background: var(--sklearn-color-fitted-level-0);\n",
       "  border: var(--sklearn-color-fitted-level-3);\n",
       "}\n",
       "\n",
       ".sk-estimator-doc-link:hover span {\n",
       "  display: block;\n",
       "}\n",
       "\n",
       "/* \"?\"-specific style due to the `<a>` HTML tag */\n",
       "\n",
       "#sk-container-id-1 a.estimator_doc_link {\n",
       "  float: right;\n",
       "  font-size: 1rem;\n",
       "  line-height: 1em;\n",
       "  font-family: monospace;\n",
       "  background-color: var(--sklearn-color-background);\n",
       "  border-radius: 1rem;\n",
       "  height: 1rem;\n",
       "  width: 1rem;\n",
       "  text-decoration: none;\n",
       "  /* unfitted */\n",
       "  color: var(--sklearn-color-unfitted-level-1);\n",
       "  border: var(--sklearn-color-unfitted-level-1) 1pt solid;\n",
       "}\n",
       "\n",
       "#sk-container-id-1 a.estimator_doc_link.fitted {\n",
       "  /* fitted */\n",
       "  border: var(--sklearn-color-fitted-level-1) 1pt solid;\n",
       "  color: var(--sklearn-color-fitted-level-1);\n",
       "}\n",
       "\n",
       "/* On hover */\n",
       "#sk-container-id-1 a.estimator_doc_link:hover {\n",
       "  /* unfitted */\n",
       "  background-color: var(--sklearn-color-unfitted-level-3);\n",
       "  color: var(--sklearn-color-background);\n",
       "  text-decoration: none;\n",
       "}\n",
       "\n",
       "#sk-container-id-1 a.estimator_doc_link.fitted:hover {\n",
       "  /* fitted */\n",
       "  background-color: var(--sklearn-color-fitted-level-3);\n",
       "}\n",
       "</style><div id=\"sk-container-id-1\" class=\"sk-top-container\"><div class=\"sk-text-repr-fallback\"><pre>GridSearchCV(cv=5, estimator=KNeighborsClassifier(),\n",
       "             param_grid=[{&#x27;n_neighbors&#x27;: array([ 5, 10, 15, 20, 25, 30, 35, 40, 45, 50])}],\n",
       "             scoring=&#x27;accuracy&#x27;)</pre><b>In a Jupyter environment, please rerun this cell to show the HTML representation or trust the notebook. <br />On GitHub, the HTML representation is unable to render, please try loading this page with nbviewer.org.</b></div><div class=\"sk-container\" hidden><div class=\"sk-item sk-dashed-wrapped\"><div class=\"sk-label-container\"><div class=\"sk-label fitted sk-toggleable\"><input class=\"sk-toggleable__control sk-hidden--visually\" id=\"sk-estimator-id-1\" type=\"checkbox\" ><label for=\"sk-estimator-id-1\" class=\"sk-toggleable__label fitted sk-toggleable__label-arrow fitted\">&nbsp;&nbsp;GridSearchCV<a class=\"sk-estimator-doc-link fitted\" rel=\"noreferrer\" target=\"_blank\" href=\"https://scikit-learn.org/1.5/modules/generated/sklearn.model_selection.GridSearchCV.html\">?<span>Documentation for GridSearchCV</span></a><span class=\"sk-estimator-doc-link fitted\">i<span>Fitted</span></span></label><div class=\"sk-toggleable__content fitted\"><pre>GridSearchCV(cv=5, estimator=KNeighborsClassifier(),\n",
       "             param_grid=[{&#x27;n_neighbors&#x27;: array([ 5, 10, 15, 20, 25, 30, 35, 40, 45, 50])}],\n",
       "             scoring=&#x27;accuracy&#x27;)</pre></div> </div></div><div class=\"sk-parallel\"><div class=\"sk-parallel-item\"><div class=\"sk-item\"><div class=\"sk-label-container\"><div class=\"sk-label fitted sk-toggleable\"><input class=\"sk-toggleable__control sk-hidden--visually\" id=\"sk-estimator-id-2\" type=\"checkbox\" ><label for=\"sk-estimator-id-2\" class=\"sk-toggleable__label fitted sk-toggleable__label-arrow fitted\">best_estimator_: KNeighborsClassifier</label><div class=\"sk-toggleable__content fitted\"><pre>KNeighborsClassifier()</pre></div> </div></div><div class=\"sk-serial\"><div class=\"sk-item\"><div class=\"sk-estimator fitted sk-toggleable\"><input class=\"sk-toggleable__control sk-hidden--visually\" id=\"sk-estimator-id-3\" type=\"checkbox\" ><label for=\"sk-estimator-id-3\" class=\"sk-toggleable__label fitted sk-toggleable__label-arrow fitted\">&nbsp;KNeighborsClassifier<a class=\"sk-estimator-doc-link fitted\" rel=\"noreferrer\" target=\"_blank\" href=\"https://scikit-learn.org/1.5/modules/generated/sklearn.neighbors.KNeighborsClassifier.html\">?<span>Documentation for KNeighborsClassifier</span></a></label><div class=\"sk-toggleable__content fitted\"><pre>KNeighborsClassifier()</pre></div> </div></div></div></div></div></div></div></div></div>"
      ],
      "text/plain": [
       "GridSearchCV(cv=5, estimator=KNeighborsClassifier(),\n",
       "             param_grid=[{'n_neighbors': array([ 5, 10, 15, 20, 25, 30, 35, 40, 45, 50])}],\n",
       "             scoring='accuracy')"
      ]
     },
     "execution_count": 69,
     "metadata": {},
     "output_type": "execute_result"
    }
   ],
   "source": [
    "%%time\n",
    "clf_gs = GridSearchCV(KNeighborsClassifier(), tuned_parameters, cv=5, scoring='accuracy')\n",
    "clf_gs.fit(X_train, y_train)"
   ]
  },
  {
   "cell_type": "code",
   "execution_count": 70,
   "id": "ec31594f",
   "metadata": {},
   "outputs": [
    {
     "data": {
      "text/plain": [
       "{'mean_fit_time': array([0.01602454, 0.00680676, 0.00638094, 0.00644617, 0.00602531,\n",
       "        0.00542421, 0.00855422, 0.00935044, 0.00781431, 0.00739751]),\n",
       " 'std_fit_time': array([0.00794115, 0.00201803, 0.00060378, 0.00026765, 0.0005701 ,\n",
       "        0.00047883, 0.00467115, 0.00247215, 0.00095393, 0.00122635]),\n",
       " 'mean_score_time': array([0.04142332, 0.01461782, 0.01652579, 0.0158391 , 0.01505909,\n",
       "        0.01499996, 0.0281466 , 0.02175245, 0.01917605, 0.02048759]),\n",
       " 'std_score_time': array([0.02281377, 0.00161594, 0.00065308, 0.00039858, 0.00106276,\n",
       "        0.00095242, 0.0240761 , 0.00403233, 0.00183559, 0.00206708]),\n",
       " 'param_n_neighbors': masked_array(data=[5, 10, 15, 20, 25, 30, 35, 40, 45, 50],\n",
       "              mask=[False, False, False, False, False, False, False, False,\n",
       "                    False, False],\n",
       "        fill_value=999999),\n",
       " 'params': [{'n_neighbors': 5},\n",
       "  {'n_neighbors': 10},\n",
       "  {'n_neighbors': 15},\n",
       "  {'n_neighbors': 20},\n",
       "  {'n_neighbors': 25},\n",
       "  {'n_neighbors': 30},\n",
       "  {'n_neighbors': 35},\n",
       "  {'n_neighbors': 40},\n",
       "  {'n_neighbors': 45},\n",
       "  {'n_neighbors': 50}],\n",
       " 'split0_test_score': array([0.5625 , 0.5625 , 0.5625 , 0.59375, 0.5625 , 0.53125, 0.53125,\n",
       "        0.625  , 0.53125, 0.40625]),\n",
       " 'split1_test_score': array([0.65625, 0.6875 , 0.625  , 0.5625 , 0.59375, 0.59375, 0.5625 ,\n",
       "        0.59375, 0.5625 , 0.53125]),\n",
       " 'split2_test_score': array([0.625  , 0.5625 , 0.59375, 0.5625 , 0.59375, 0.5625 , 0.59375,\n",
       "        0.5    , 0.5    , 0.53125]),\n",
       " 'split3_test_score': array([0.53125, 0.5    , 0.5    , 0.53125, 0.4375 , 0.375  , 0.40625,\n",
       "        0.40625, 0.34375, 0.34375]),\n",
       " 'split4_test_score': array([0.75   , 0.71875, 0.6875 , 0.65625, 0.65625, 0.65625, 0.59375,\n",
       "        0.625  , 0.53125, 0.46875]),\n",
       " 'mean_test_score': array([0.625  , 0.60625, 0.59375, 0.58125, 0.56875, 0.54375, 0.5375 ,\n",
       "        0.55   , 0.49375, 0.45625]),\n",
       " 'std_test_score': array([0.07654655, 0.08291562, 0.0625    , 0.04238956, 0.07234898,\n",
       "        0.0939581 , 0.06959705, 0.08523864, 0.07756046, 0.0728869 ]),\n",
       " 'rank_test_score': array([ 1,  2,  3,  4,  5,  7,  8,  6,  9, 10], dtype=int32)}"
      ]
     },
     "execution_count": 70,
     "metadata": {},
     "output_type": "execute_result"
    }
   ],
   "source": [
    "clf_gs.cv_results_"
   ]
  },
  {
   "cell_type": "markdown",
   "id": "0ff793b3",
   "metadata": {},
   "source": [
    "Лучшая модель:"
   ]
  },
  {
   "cell_type": "code",
   "execution_count": 71,
   "id": "3fac9c2e",
   "metadata": {},
   "outputs": [
    {
     "data": {
      "text/html": [
       "<style>#sk-container-id-2 {\n",
       "  /* Definition of color scheme common for light and dark mode */\n",
       "  --sklearn-color-text: black;\n",
       "  --sklearn-color-line: gray;\n",
       "  /* Definition of color scheme for unfitted estimators */\n",
       "  --sklearn-color-unfitted-level-0: #fff5e6;\n",
       "  --sklearn-color-unfitted-level-1: #f6e4d2;\n",
       "  --sklearn-color-unfitted-level-2: #ffe0b3;\n",
       "  --sklearn-color-unfitted-level-3: chocolate;\n",
       "  /* Definition of color scheme for fitted estimators */\n",
       "  --sklearn-color-fitted-level-0: #f0f8ff;\n",
       "  --sklearn-color-fitted-level-1: #d4ebff;\n",
       "  --sklearn-color-fitted-level-2: #b3dbfd;\n",
       "  --sklearn-color-fitted-level-3: cornflowerblue;\n",
       "\n",
       "  /* Specific color for light theme */\n",
       "  --sklearn-color-text-on-default-background: var(--sg-text-color, var(--theme-code-foreground, var(--jp-content-font-color1, black)));\n",
       "  --sklearn-color-background: var(--sg-background-color, var(--theme-background, var(--jp-layout-color0, white)));\n",
       "  --sklearn-color-border-box: var(--sg-text-color, var(--theme-code-foreground, var(--jp-content-font-color1, black)));\n",
       "  --sklearn-color-icon: #696969;\n",
       "\n",
       "  @media (prefers-color-scheme: dark) {\n",
       "    /* Redefinition of color scheme for dark theme */\n",
       "    --sklearn-color-text-on-default-background: var(--sg-text-color, var(--theme-code-foreground, var(--jp-content-font-color1, white)));\n",
       "    --sklearn-color-background: var(--sg-background-color, var(--theme-background, var(--jp-layout-color0, #111)));\n",
       "    --sklearn-color-border-box: var(--sg-text-color, var(--theme-code-foreground, var(--jp-content-font-color1, white)));\n",
       "    --sklearn-color-icon: #878787;\n",
       "  }\n",
       "}\n",
       "\n",
       "#sk-container-id-2 {\n",
       "  color: var(--sklearn-color-text);\n",
       "}\n",
       "\n",
       "#sk-container-id-2 pre {\n",
       "  padding: 0;\n",
       "}\n",
       "\n",
       "#sk-container-id-2 input.sk-hidden--visually {\n",
       "  border: 0;\n",
       "  clip: rect(1px 1px 1px 1px);\n",
       "  clip: rect(1px, 1px, 1px, 1px);\n",
       "  height: 1px;\n",
       "  margin: -1px;\n",
       "  overflow: hidden;\n",
       "  padding: 0;\n",
       "  position: absolute;\n",
       "  width: 1px;\n",
       "}\n",
       "\n",
       "#sk-container-id-2 div.sk-dashed-wrapped {\n",
       "  border: 1px dashed var(--sklearn-color-line);\n",
       "  margin: 0 0.4em 0.5em 0.4em;\n",
       "  box-sizing: border-box;\n",
       "  padding-bottom: 0.4em;\n",
       "  background-color: var(--sklearn-color-background);\n",
       "}\n",
       "\n",
       "#sk-container-id-2 div.sk-container {\n",
       "  /* jupyter's `normalize.less` sets `[hidden] { display: none; }`\n",
       "     but bootstrap.min.css set `[hidden] { display: none !important; }`\n",
       "     so we also need the `!important` here to be able to override the\n",
       "     default hidden behavior on the sphinx rendered scikit-learn.org.\n",
       "     See: https://github.com/scikit-learn/scikit-learn/issues/21755 */\n",
       "  display: inline-block !important;\n",
       "  position: relative;\n",
       "}\n",
       "\n",
       "#sk-container-id-2 div.sk-text-repr-fallback {\n",
       "  display: none;\n",
       "}\n",
       "\n",
       "div.sk-parallel-item,\n",
       "div.sk-serial,\n",
       "div.sk-item {\n",
       "  /* draw centered vertical line to link estimators */\n",
       "  background-image: linear-gradient(var(--sklearn-color-text-on-default-background), var(--sklearn-color-text-on-default-background));\n",
       "  background-size: 2px 100%;\n",
       "  background-repeat: no-repeat;\n",
       "  background-position: center center;\n",
       "}\n",
       "\n",
       "/* Parallel-specific style estimator block */\n",
       "\n",
       "#sk-container-id-2 div.sk-parallel-item::after {\n",
       "  content: \"\";\n",
       "  width: 100%;\n",
       "  border-bottom: 2px solid var(--sklearn-color-text-on-default-background);\n",
       "  flex-grow: 1;\n",
       "}\n",
       "\n",
       "#sk-container-id-2 div.sk-parallel {\n",
       "  display: flex;\n",
       "  align-items: stretch;\n",
       "  justify-content: center;\n",
       "  background-color: var(--sklearn-color-background);\n",
       "  position: relative;\n",
       "}\n",
       "\n",
       "#sk-container-id-2 div.sk-parallel-item {\n",
       "  display: flex;\n",
       "  flex-direction: column;\n",
       "}\n",
       "\n",
       "#sk-container-id-2 div.sk-parallel-item:first-child::after {\n",
       "  align-self: flex-end;\n",
       "  width: 50%;\n",
       "}\n",
       "\n",
       "#sk-container-id-2 div.sk-parallel-item:last-child::after {\n",
       "  align-self: flex-start;\n",
       "  width: 50%;\n",
       "}\n",
       "\n",
       "#sk-container-id-2 div.sk-parallel-item:only-child::after {\n",
       "  width: 0;\n",
       "}\n",
       "\n",
       "/* Serial-specific style estimator block */\n",
       "\n",
       "#sk-container-id-2 div.sk-serial {\n",
       "  display: flex;\n",
       "  flex-direction: column;\n",
       "  align-items: center;\n",
       "  background-color: var(--sklearn-color-background);\n",
       "  padding-right: 1em;\n",
       "  padding-left: 1em;\n",
       "}\n",
       "\n",
       "\n",
       "/* Toggleable style: style used for estimator/Pipeline/ColumnTransformer box that is\n",
       "clickable and can be expanded/collapsed.\n",
       "- Pipeline and ColumnTransformer use this feature and define the default style\n",
       "- Estimators will overwrite some part of the style using the `sk-estimator` class\n",
       "*/\n",
       "\n",
       "/* Pipeline and ColumnTransformer style (default) */\n",
       "\n",
       "#sk-container-id-2 div.sk-toggleable {\n",
       "  /* Default theme specific background. It is overwritten whether we have a\n",
       "  specific estimator or a Pipeline/ColumnTransformer */\n",
       "  background-color: var(--sklearn-color-background);\n",
       "}\n",
       "\n",
       "/* Toggleable label */\n",
       "#sk-container-id-2 label.sk-toggleable__label {\n",
       "  cursor: pointer;\n",
       "  display: block;\n",
       "  width: 100%;\n",
       "  margin-bottom: 0;\n",
       "  padding: 0.5em;\n",
       "  box-sizing: border-box;\n",
       "  text-align: center;\n",
       "}\n",
       "\n",
       "#sk-container-id-2 label.sk-toggleable__label-arrow:before {\n",
       "  /* Arrow on the left of the label */\n",
       "  content: \"▸\";\n",
       "  float: left;\n",
       "  margin-right: 0.25em;\n",
       "  color: var(--sklearn-color-icon);\n",
       "}\n",
       "\n",
       "#sk-container-id-2 label.sk-toggleable__label-arrow:hover:before {\n",
       "  color: var(--sklearn-color-text);\n",
       "}\n",
       "\n",
       "/* Toggleable content - dropdown */\n",
       "\n",
       "#sk-container-id-2 div.sk-toggleable__content {\n",
       "  max-height: 0;\n",
       "  max-width: 0;\n",
       "  overflow: hidden;\n",
       "  text-align: left;\n",
       "  /* unfitted */\n",
       "  background-color: var(--sklearn-color-unfitted-level-0);\n",
       "}\n",
       "\n",
       "#sk-container-id-2 div.sk-toggleable__content.fitted {\n",
       "  /* fitted */\n",
       "  background-color: var(--sklearn-color-fitted-level-0);\n",
       "}\n",
       "\n",
       "#sk-container-id-2 div.sk-toggleable__content pre {\n",
       "  margin: 0.2em;\n",
       "  border-radius: 0.25em;\n",
       "  color: var(--sklearn-color-text);\n",
       "  /* unfitted */\n",
       "  background-color: var(--sklearn-color-unfitted-level-0);\n",
       "}\n",
       "\n",
       "#sk-container-id-2 div.sk-toggleable__content.fitted pre {\n",
       "  /* unfitted */\n",
       "  background-color: var(--sklearn-color-fitted-level-0);\n",
       "}\n",
       "\n",
       "#sk-container-id-2 input.sk-toggleable__control:checked~div.sk-toggleable__content {\n",
       "  /* Expand drop-down */\n",
       "  max-height: 200px;\n",
       "  max-width: 100%;\n",
       "  overflow: auto;\n",
       "}\n",
       "\n",
       "#sk-container-id-2 input.sk-toggleable__control:checked~label.sk-toggleable__label-arrow:before {\n",
       "  content: \"▾\";\n",
       "}\n",
       "\n",
       "/* Pipeline/ColumnTransformer-specific style */\n",
       "\n",
       "#sk-container-id-2 div.sk-label input.sk-toggleable__control:checked~label.sk-toggleable__label {\n",
       "  color: var(--sklearn-color-text);\n",
       "  background-color: var(--sklearn-color-unfitted-level-2);\n",
       "}\n",
       "\n",
       "#sk-container-id-2 div.sk-label.fitted input.sk-toggleable__control:checked~label.sk-toggleable__label {\n",
       "  background-color: var(--sklearn-color-fitted-level-2);\n",
       "}\n",
       "\n",
       "/* Estimator-specific style */\n",
       "\n",
       "/* Colorize estimator box */\n",
       "#sk-container-id-2 div.sk-estimator input.sk-toggleable__control:checked~label.sk-toggleable__label {\n",
       "  /* unfitted */\n",
       "  background-color: var(--sklearn-color-unfitted-level-2);\n",
       "}\n",
       "\n",
       "#sk-container-id-2 div.sk-estimator.fitted input.sk-toggleable__control:checked~label.sk-toggleable__label {\n",
       "  /* fitted */\n",
       "  background-color: var(--sklearn-color-fitted-level-2);\n",
       "}\n",
       "\n",
       "#sk-container-id-2 div.sk-label label.sk-toggleable__label,\n",
       "#sk-container-id-2 div.sk-label label {\n",
       "  /* The background is the default theme color */\n",
       "  color: var(--sklearn-color-text-on-default-background);\n",
       "}\n",
       "\n",
       "/* On hover, darken the color of the background */\n",
       "#sk-container-id-2 div.sk-label:hover label.sk-toggleable__label {\n",
       "  color: var(--sklearn-color-text);\n",
       "  background-color: var(--sklearn-color-unfitted-level-2);\n",
       "}\n",
       "\n",
       "/* Label box, darken color on hover, fitted */\n",
       "#sk-container-id-2 div.sk-label.fitted:hover label.sk-toggleable__label.fitted {\n",
       "  color: var(--sklearn-color-text);\n",
       "  background-color: var(--sklearn-color-fitted-level-2);\n",
       "}\n",
       "\n",
       "/* Estimator label */\n",
       "\n",
       "#sk-container-id-2 div.sk-label label {\n",
       "  font-family: monospace;\n",
       "  font-weight: bold;\n",
       "  display: inline-block;\n",
       "  line-height: 1.2em;\n",
       "}\n",
       "\n",
       "#sk-container-id-2 div.sk-label-container {\n",
       "  text-align: center;\n",
       "}\n",
       "\n",
       "/* Estimator-specific */\n",
       "#sk-container-id-2 div.sk-estimator {\n",
       "  font-family: monospace;\n",
       "  border: 1px dotted var(--sklearn-color-border-box);\n",
       "  border-radius: 0.25em;\n",
       "  box-sizing: border-box;\n",
       "  margin-bottom: 0.5em;\n",
       "  /* unfitted */\n",
       "  background-color: var(--sklearn-color-unfitted-level-0);\n",
       "}\n",
       "\n",
       "#sk-container-id-2 div.sk-estimator.fitted {\n",
       "  /* fitted */\n",
       "  background-color: var(--sklearn-color-fitted-level-0);\n",
       "}\n",
       "\n",
       "/* on hover */\n",
       "#sk-container-id-2 div.sk-estimator:hover {\n",
       "  /* unfitted */\n",
       "  background-color: var(--sklearn-color-unfitted-level-2);\n",
       "}\n",
       "\n",
       "#sk-container-id-2 div.sk-estimator.fitted:hover {\n",
       "  /* fitted */\n",
       "  background-color: var(--sklearn-color-fitted-level-2);\n",
       "}\n",
       "\n",
       "/* Specification for estimator info (e.g. \"i\" and \"?\") */\n",
       "\n",
       "/* Common style for \"i\" and \"?\" */\n",
       "\n",
       ".sk-estimator-doc-link,\n",
       "a:link.sk-estimator-doc-link,\n",
       "a:visited.sk-estimator-doc-link {\n",
       "  float: right;\n",
       "  font-size: smaller;\n",
       "  line-height: 1em;\n",
       "  font-family: monospace;\n",
       "  background-color: var(--sklearn-color-background);\n",
       "  border-radius: 1em;\n",
       "  height: 1em;\n",
       "  width: 1em;\n",
       "  text-decoration: none !important;\n",
       "  margin-left: 1ex;\n",
       "  /* unfitted */\n",
       "  border: var(--sklearn-color-unfitted-level-1) 1pt solid;\n",
       "  color: var(--sklearn-color-unfitted-level-1);\n",
       "}\n",
       "\n",
       ".sk-estimator-doc-link.fitted,\n",
       "a:link.sk-estimator-doc-link.fitted,\n",
       "a:visited.sk-estimator-doc-link.fitted {\n",
       "  /* fitted */\n",
       "  border: var(--sklearn-color-fitted-level-1) 1pt solid;\n",
       "  color: var(--sklearn-color-fitted-level-1);\n",
       "}\n",
       "\n",
       "/* On hover */\n",
       "div.sk-estimator:hover .sk-estimator-doc-link:hover,\n",
       ".sk-estimator-doc-link:hover,\n",
       "div.sk-label-container:hover .sk-estimator-doc-link:hover,\n",
       ".sk-estimator-doc-link:hover {\n",
       "  /* unfitted */\n",
       "  background-color: var(--sklearn-color-unfitted-level-3);\n",
       "  color: var(--sklearn-color-background);\n",
       "  text-decoration: none;\n",
       "}\n",
       "\n",
       "div.sk-estimator.fitted:hover .sk-estimator-doc-link.fitted:hover,\n",
       ".sk-estimator-doc-link.fitted:hover,\n",
       "div.sk-label-container:hover .sk-estimator-doc-link.fitted:hover,\n",
       ".sk-estimator-doc-link.fitted:hover {\n",
       "  /* fitted */\n",
       "  background-color: var(--sklearn-color-fitted-level-3);\n",
       "  color: var(--sklearn-color-background);\n",
       "  text-decoration: none;\n",
       "}\n",
       "\n",
       "/* Span, style for the box shown on hovering the info icon */\n",
       ".sk-estimator-doc-link span {\n",
       "  display: none;\n",
       "  z-index: 9999;\n",
       "  position: relative;\n",
       "  font-weight: normal;\n",
       "  right: .2ex;\n",
       "  padding: .5ex;\n",
       "  margin: .5ex;\n",
       "  width: min-content;\n",
       "  min-width: 20ex;\n",
       "  max-width: 50ex;\n",
       "  color: var(--sklearn-color-text);\n",
       "  box-shadow: 2pt 2pt 4pt #999;\n",
       "  /* unfitted */\n",
       "  background: var(--sklearn-color-unfitted-level-0);\n",
       "  border: .5pt solid var(--sklearn-color-unfitted-level-3);\n",
       "}\n",
       "\n",
       ".sk-estimator-doc-link.fitted span {\n",
       "  /* fitted */\n",
       "  background: var(--sklearn-color-fitted-level-0);\n",
       "  border: var(--sklearn-color-fitted-level-3);\n",
       "}\n",
       "\n",
       ".sk-estimator-doc-link:hover span {\n",
       "  display: block;\n",
       "}\n",
       "\n",
       "/* \"?\"-specific style due to the `<a>` HTML tag */\n",
       "\n",
       "#sk-container-id-2 a.estimator_doc_link {\n",
       "  float: right;\n",
       "  font-size: 1rem;\n",
       "  line-height: 1em;\n",
       "  font-family: monospace;\n",
       "  background-color: var(--sklearn-color-background);\n",
       "  border-radius: 1rem;\n",
       "  height: 1rem;\n",
       "  width: 1rem;\n",
       "  text-decoration: none;\n",
       "  /* unfitted */\n",
       "  color: var(--sklearn-color-unfitted-level-1);\n",
       "  border: var(--sklearn-color-unfitted-level-1) 1pt solid;\n",
       "}\n",
       "\n",
       "#sk-container-id-2 a.estimator_doc_link.fitted {\n",
       "  /* fitted */\n",
       "  border: var(--sklearn-color-fitted-level-1) 1pt solid;\n",
       "  color: var(--sklearn-color-fitted-level-1);\n",
       "}\n",
       "\n",
       "/* On hover */\n",
       "#sk-container-id-2 a.estimator_doc_link:hover {\n",
       "  /* unfitted */\n",
       "  background-color: var(--sklearn-color-unfitted-level-3);\n",
       "  color: var(--sklearn-color-background);\n",
       "  text-decoration: none;\n",
       "}\n",
       "\n",
       "#sk-container-id-2 a.estimator_doc_link.fitted:hover {\n",
       "  /* fitted */\n",
       "  background-color: var(--sklearn-color-fitted-level-3);\n",
       "}\n",
       "</style><div id=\"sk-container-id-2\" class=\"sk-top-container\"><div class=\"sk-text-repr-fallback\"><pre>KNeighborsClassifier()</pre><b>In a Jupyter environment, please rerun this cell to show the HTML representation or trust the notebook. <br />On GitHub, the HTML representation is unable to render, please try loading this page with nbviewer.org.</b></div><div class=\"sk-container\" hidden><div class=\"sk-item\"><div class=\"sk-estimator fitted sk-toggleable\"><input class=\"sk-toggleable__control sk-hidden--visually\" id=\"sk-estimator-id-4\" type=\"checkbox\" checked><label for=\"sk-estimator-id-4\" class=\"sk-toggleable__label fitted sk-toggleable__label-arrow fitted\">&nbsp;&nbsp;KNeighborsClassifier<a class=\"sk-estimator-doc-link fitted\" rel=\"noreferrer\" target=\"_blank\" href=\"https://scikit-learn.org/1.5/modules/generated/sklearn.neighbors.KNeighborsClassifier.html\">?<span>Documentation for KNeighborsClassifier</span></a><span class=\"sk-estimator-doc-link fitted\">i<span>Fitted</span></span></label><div class=\"sk-toggleable__content fitted\"><pre>KNeighborsClassifier()</pre></div> </div></div></div></div>"
      ],
      "text/plain": [
       "KNeighborsClassifier()"
      ]
     },
     "execution_count": 71,
     "metadata": {},
     "output_type": "execute_result"
    }
   ],
   "source": [
    "clf_gs.best_estimator_"
   ]
  },
  {
   "cell_type": "markdown",
   "id": "c38418e9",
   "metadata": {},
   "source": [
    "Лучшее значение метрики:"
   ]
  },
  {
   "cell_type": "code",
   "execution_count": 72,
   "id": "3d56d7bd",
   "metadata": {},
   "outputs": [
    {
     "data": {
      "text/plain": [
       "0.625"
      ]
     },
     "execution_count": 72,
     "metadata": {},
     "output_type": "execute_result"
    }
   ],
   "source": [
    "clf_gs.best_score_"
   ]
  },
  {
   "cell_type": "markdown",
   "id": "f8931cb3",
   "metadata": {},
   "source": [
    "Лучшее значение параметров:"
   ]
  },
  {
   "cell_type": "code",
   "execution_count": 73,
   "id": "6ac378f1",
   "metadata": {},
   "outputs": [
    {
     "data": {
      "text/plain": [
       "{'n_neighbors': 5}"
      ]
     },
     "execution_count": 73,
     "metadata": {},
     "output_type": "execute_result"
    }
   ],
   "source": [
    "clf_gs.best_params_"
   ]
  },
  {
   "cell_type": "markdown",
   "id": "d2fd2671",
   "metadata": {},
   "source": [
    "Изменение качества на тестовой выборке в зависимости от К-соседей:"
   ]
  },
  {
   "cell_type": "code",
   "execution_count": 74,
   "id": "6a61b0cc",
   "metadata": {},
   "outputs": [
    {
     "data": {
      "text/plain": [
       "[<matplotlib.lines.Line2D at 0x7f77e53bccb0>]"
      ]
     },
     "execution_count": 74,
     "metadata": {},
     "output_type": "execute_result"
    },
    {
     "data": {
      "image/png": "[encoded data removed]",
      "text/plain": [
       "<Figure size 640x480 with 1 Axes>"
      ]
     },
     "metadata": {},
     "output_type": "display_data"
    }
   ],
   "source": [
    "plt.plot(n_range, clf_gs.cv_results_['mean_test_score'])"
   ]
  },
  {
   "cell_type": "markdown",
   "id": "2347f640",
   "metadata": {},
   "source": [
    "#### Через RandomizedSearch"
   ]
  },
  {
   "cell_type": "code",
   "execution_count": 75,
   "id": "2dcf54fe",
   "metadata": {},
   "outputs": [],
   "source": [
    "from sklearn.model_selection import RandomizedSearchCV"
   ]
  },
  {
   "cell_type": "code",
   "execution_count": 76,
   "id": "f062d1c6",
   "metadata": {},
   "outputs": [
    {
     "name": "stdout",
     "output_type": "stream",
     "text": [
      "CPU times: user 1.17 s, sys: 5.47 ms, total: 1.17 s\n",
      "Wall time: 1.78 s\n"
     ]
    },
    {
     "data": {
      "text/html": [
       "<style>#sk-container-id-3 {\n",
       "  /* Definition of color scheme common for light and dark mode */\n",
       "  --sklearn-color-text: black;\n",
       "  --sklearn-color-line: gray;\n",
       "  /* Definition of color scheme for unfitted estimators */\n",
       "  --sklearn-color-unfitted-level-0: #fff5e6;\n",
       "  --sklearn-color-unfitted-level-1: #f6e4d2;\n",
       "  --sklearn-color-unfitted-level-2: #ffe0b3;\n",
       "  --sklearn-color-unfitted-level-3: chocolate;\n",
       "  /* Definition of color scheme for fitted estimators */\n",
       "  --sklearn-color-fitted-level-0: #f0f8ff;\n",
       "  --sklearn-color-fitted-level-1: #d4ebff;\n",
       "  --sklearn-color-fitted-level-2: #b3dbfd;\n",
       "  --sklearn-color-fitted-level-3: cornflowerblue;\n",
       "\n",
       "  /* Specific color for light theme */\n",
       "  --sklearn-color-text-on-default-background: var(--sg-text-color, var(--theme-code-foreground, var(--jp-content-font-color1, black)));\n",
       "  --sklearn-color-background: var(--sg-background-color, var(--theme-background, var(--jp-layout-color0, white)));\n",
       "  --sklearn-color-border-box: var(--sg-text-color, var(--theme-code-foreground, var(--jp-content-font-color1, black)));\n",
       "  --sklearn-color-icon: #696969;\n",
       "\n",
       "  @media (prefers-color-scheme: dark) {\n",
       "    /* Redefinition of color scheme for dark theme */\n",
       "    --sklearn-color-text-on-default-background: var(--sg-text-color, var(--theme-code-foreground, var(--jp-content-font-color1, white)));\n",
       "    --sklearn-color-background: var(--sg-background-color, var(--theme-background, var(--jp-layout-color0, #111)));\n",
       "    --sklearn-color-border-box: var(--sg-text-color, var(--theme-code-foreground, var(--jp-content-font-color1, white)));\n",
       "    --sklearn-color-icon: #878787;\n",
       "  }\n",
       "}\n",
       "\n",
       "#sk-container-id-3 {\n",
       "  color: var(--sklearn-color-text);\n",
       "}\n",
       "\n",
       "#sk-container-id-3 pre {\n",
       "  padding: 0;\n",
       "}\n",
       "\n",
       "#sk-container-id-3 input.sk-hidden--visually {\n",
       "  border: 0;\n",
       "  clip: rect(1px 1px 1px 1px);\n",
       "  clip: rect(1px, 1px, 1px, 1px);\n",
       "  height: 1px;\n",
       "  margin: -1px;\n",
       "  overflow: hidden;\n",
       "  padding: 0;\n",
       "  position: absolute;\n",
       "  width: 1px;\n",
       "}\n",
       "\n",
       "#sk-container-id-3 div.sk-dashed-wrapped {\n",
       "  border: 1px dashed var(--sklearn-color-line);\n",
       "  margin: 0 0.4em 0.5em 0.4em;\n",
       "  box-sizing: border-box;\n",
       "  padding-bottom: 0.4em;\n",
       "  background-color: var(--sklearn-color-background);\n",
       "}\n",
       "\n",
       "#sk-container-id-3 div.sk-container {\n",
       "  /* jupyter's `normalize.less` sets `[hidden] { display: none; }`\n",
       "     but bootstrap.min.css set `[hidden] { display: none !important; }`\n",
       "     so we also need the `!important` here to be able to override the\n",
       "     default hidden behavior on the sphinx rendered scikit-learn.org.\n",
       "     See: https://github.com/scikit-learn/scikit-learn/issues/21755 */\n",
       "  display: inline-block !important;\n",
       "  position: relative;\n",
       "}\n",
       "\n",
       "#sk-container-id-3 div.sk-text-repr-fallback {\n",
       "  display: none;\n",
       "}\n",
       "\n",
       "div.sk-parallel-item,\n",
       "div.sk-serial,\n",
       "div.sk-item {\n",
       "  /* draw centered vertical line to link estimators */\n",
       "  background-image: linear-gradient(var(--sklearn-color-text-on-default-background), var(--sklearn-color-text-on-default-background));\n",
       "  background-size: 2px 100%;\n",
       "  background-repeat: no-repeat;\n",
       "  background-position: center center;\n",
       "}\n",
       "\n",
       "/* Parallel-specific style estimator block */\n",
       "\n",
       "#sk-container-id-3 div.sk-parallel-item::after {\n",
       "  content: \"\";\n",
       "  width: 100%;\n",
       "  border-bottom: 2px solid var(--sklearn-color-text-on-default-background);\n",
       "  flex-grow: 1;\n",
       "}\n",
       "\n",
       "#sk-container-id-3 div.sk-parallel {\n",
       "  display: flex;\n",
       "  align-items: stretch;\n",
       "  justify-content: center;\n",
       "  background-color: var(--sklearn-color-background);\n",
       "  position: relative;\n",
       "}\n",
       "\n",
       "#sk-container-id-3 div.sk-parallel-item {\n",
       "  display: flex;\n",
       "  flex-direction: column;\n",
       "}\n",
       "\n",
       "#sk-container-id-3 div.sk-parallel-item:first-child::after {\n",
       "  align-self: flex-end;\n",
       "  width: 50%;\n",
       "}\n",
       "\n",
       "#sk-container-id-3 div.sk-parallel-item:last-child::after {\n",
       "  align-self: flex-start;\n",
       "  width: 50%;\n",
       "}\n",
       "\n",
       "#sk-container-id-3 div.sk-parallel-item:only-child::after {\n",
       "  width: 0;\n",
       "}\n",
       "\n",
       "/* Serial-specific style estimator block */\n",
       "\n",
       "#sk-container-id-3 div.sk-serial {\n",
       "  display: flex;\n",
       "  flex-direction: column;\n",
       "  align-items: center;\n",
       "  background-color: var(--sklearn-color-background);\n",
       "  padding-right: 1em;\n",
       "  padding-left: 1em;\n",
       "}\n",
       "\n",
       "\n",
       "/* Toggleable style: style used for estimator/Pipeline/ColumnTransformer box that is\n",
       "clickable and can be expanded/collapsed.\n",
       "- Pipeline and ColumnTransformer use this feature and define the default style\n",
       "- Estimators will overwrite some part of the style using the `sk-estimator` class\n",
       "*/\n",
       "\n",
       "/* Pipeline and ColumnTransformer style (default) */\n",
       "\n",
       "#sk-container-id-3 div.sk-toggleable {\n",
       "  /* Default theme specific background. It is overwritten whether we have a\n",
       "  specific estimator or a Pipeline/ColumnTransformer */\n",
       "  background-color: var(--sklearn-color-background);\n",
       "}\n",
       "\n",
       "/* Toggleable label */\n",
       "#sk-container-id-3 label.sk-toggleable__label {\n",
       "  cursor: pointer;\n",
       "  display: block;\n",
       "  width: 100%;\n",
       "  margin-bottom: 0;\n",
       "  padding: 0.5em;\n",
       "  box-sizing: border-box;\n",
       "  text-align: center;\n",
       "}\n",
       "\n",
       "#sk-container-id-3 label.sk-toggleable__label-arrow:before {\n",
       "  /* Arrow on the left of the label */\n",
       "  content: \"▸\";\n",
       "  float: left;\n",
       "  margin-right: 0.25em;\n",
       "  color: var(--sklearn-color-icon);\n",
       "}\n",
       "\n",
       "#sk-container-id-3 label.sk-toggleable__label-arrow:hover:before {\n",
       "  color: var(--sklearn-color-text);\n",
       "}\n",
       "\n",
       "/* Toggleable content - dropdown */\n",
       "\n",
       "#sk-container-id-3 div.sk-toggleable__content {\n",
       "  max-height: 0;\n",
       "  max-width: 0;\n",
       "  overflow: hidden;\n",
       "  text-align: left;\n",
       "  /* unfitted */\n",
       "  background-color: var(--sklearn-color-unfitted-level-0);\n",
       "}\n",
       "\n",
       "#sk-container-id-3 div.sk-toggleable__content.fitted {\n",
       "  /* fitted */\n",
       "  background-color: var(--sklearn-color-fitted-level-0);\n",
       "}\n",
       "\n",
       "#sk-container-id-3 div.sk-toggleable__content pre {\n",
       "  margin: 0.2em;\n",
       "  border-radius: 0.25em;\n",
       "  color: var(--sklearn-color-text);\n",
       "  /* unfitted */\n",
       "  background-color: var(--sklearn-color-unfitted-level-0);\n",
       "}\n",
       "\n",
       "#sk-container-id-3 div.sk-toggleable__content.fitted pre {\n",
       "  /* unfitted */\n",
       "  background-color: var(--sklearn-color-fitted-level-0);\n",
       "}\n",
       "\n",
       "#sk-container-id-3 input.sk-toggleable__control:checked~div.sk-toggleable__content {\n",
       "  /* Expand drop-down */\n",
       "  max-height: 200px;\n",
       "  max-width: 100%;\n",
       "  overflow: auto;\n",
       "}\n",
       "\n",
       "#sk-container-id-3 input.sk-toggleable__control:checked~label.sk-toggleable__label-arrow:before {\n",
       "  content: \"▾\";\n",
       "}\n",
       "\n",
       "/* Pipeline/ColumnTransformer-specific style */\n",
       "\n",
       "#sk-container-id-3 div.sk-label input.sk-toggleable__control:checked~label.sk-toggleable__label {\n",
       "  color: var(--sklearn-color-text);\n",
       "  background-color: var(--sklearn-color-unfitted-level-2);\n",
       "}\n",
       "\n",
       "#sk-container-id-3 div.sk-label.fitted input.sk-toggleable__control:checked~label.sk-toggleable__label {\n",
       "  background-color: var(--sklearn-color-fitted-level-2);\n",
       "}\n",
       "\n",
       "/* Estimator-specific style */\n",
       "\n",
       "/* Colorize estimator box */\n",
       "#sk-container-id-3 div.sk-estimator input.sk-toggleable__control:checked~label.sk-toggleable__label {\n",
       "  /* unfitted */\n",
       "  background-color: var(--sklearn-color-unfitted-level-2);\n",
       "}\n",
       "\n",
       "#sk-container-id-3 div.sk-estimator.fitted input.sk-toggleable__control:checked~label.sk-toggleable__label {\n",
       "  /* fitted */\n",
       "  background-color: var(--sklearn-color-fitted-level-2);\n",
       "}\n",
       "\n",
       "#sk-container-id-3 div.sk-label label.sk-toggleable__label,\n",
       "#sk-container-id-3 div.sk-label label {\n",
       "  /* The background is the default theme color */\n",
       "  color: var(--sklearn-color-text-on-default-background);\n",
       "}\n",
       "\n",
       "/* On hover, darken the color of the background */\n",
       "#sk-container-id-3 div.sk-label:hover label.sk-toggleable__label {\n",
       "  color: var(--sklearn-color-text);\n",
       "  background-color: var(--sklearn-color-unfitted-level-2);\n",
       "}\n",
       "\n",
       "/* Label box, darken color on hover, fitted */\n",
       "#sk-container-id-3 div.sk-label.fitted:hover label.sk-toggleable__label.fitted {\n",
       "  color: var(--sklearn-color-text);\n",
       "  background-color: var(--sklearn-color-fitted-level-2);\n",
       "}\n",
       "\n",
       "/* Estimator label */\n",
       "\n",
       "#sk-container-id-3 div.sk-label label {\n",
       "  font-family: monospace;\n",
       "  font-weight: bold;\n",
       "  display: inline-block;\n",
       "  line-height: 1.2em;\n",
       "}\n",
       "\n",
       "#sk-container-id-3 div.sk-label-container {\n",
       "  text-align: center;\n",
       "}\n",
       "\n",
       "/* Estimator-specific */\n",
       "#sk-container-id-3 div.sk-estimator {\n",
       "  font-family: monospace;\n",
       "  border: 1px dotted var(--sklearn-color-border-box);\n",
       "  border-radius: 0.25em;\n",
       "  box-sizing: border-box;\n",
       "  margin-bottom: 0.5em;\n",
       "  /* unfitted */\n",
       "  background-color: var(--sklearn-color-unfitted-level-0);\n",
       "}\n",
       "\n",
       "#sk-container-id-3 div.sk-estimator.fitted {\n",
       "  /* fitted */\n",
       "  background-color: var(--sklearn-color-fitted-level-0);\n",
       "}\n",
       "\n",
       "/* on hover */\n",
       "#sk-container-id-3 div.sk-estimator:hover {\n",
       "  /* unfitted */\n",
       "  background-color: var(--sklearn-color-unfitted-level-2);\n",
       "}\n",
       "\n",
       "#sk-container-id-3 div.sk-estimator.fitted:hover {\n",
       "  /* fitted */\n",
       "  background-color: var(--sklearn-color-fitted-level-2);\n",
       "}\n",
       "\n",
       "/* Specification for estimator info (e.g. \"i\" and \"?\") */\n",
       "\n",
       "/* Common style for \"i\" and \"?\" */\n",
       "\n",
       ".sk-estimator-doc-link,\n",
       "a:link.sk-estimator-doc-link,\n",
       "a:visited.sk-estimator-doc-link {\n",
       "  float: right;\n",
       "  font-size: smaller;\n",
       "  line-height: 1em;\n",
       "  font-family: monospace;\n",
       "  background-color: var(--sklearn-color-background);\n",
       "  border-radius: 1em;\n",
       "  height: 1em;\n",
       "  width: 1em;\n",
       "  text-decoration: none !important;\n",
       "  margin-left: 1ex;\n",
       "  /* unfitted */\n",
       "  border: var(--sklearn-color-unfitted-level-1) 1pt solid;\n",
       "  color: var(--sklearn-color-unfitted-level-1);\n",
       "}\n",
       "\n",
       ".sk-estimator-doc-link.fitted,\n",
       "a:link.sk-estimator-doc-link.fitted,\n",
       "a:visited.sk-estimator-doc-link.fitted {\n",
       "  /* fitted */\n",
       "  border: var(--sklearn-color-fitted-level-1) 1pt solid;\n",
       "  color: var(--sklearn-color-fitted-level-1);\n",
       "}\n",
       "\n",
       "/* On hover */\n",
       "div.sk-estimator:hover .sk-estimator-doc-link:hover,\n",
       ".sk-estimator-doc-link:hover,\n",
       "div.sk-label-container:hover .sk-estimator-doc-link:hover,\n",
       ".sk-estimator-doc-link:hover {\n",
       "  /* unfitted */\n",
       "  background-color: var(--sklearn-color-unfitted-level-3);\n",
       "  color: var(--sklearn-color-background);\n",
       "  text-decoration: none;\n",
       "}\n",
       "\n",
       "div.sk-estimator.fitted:hover .sk-estimator-doc-link.fitted:hover,\n",
       ".sk-estimator-doc-link.fitted:hover,\n",
       "div.sk-label-container:hover .sk-estimator-doc-link.fitted:hover,\n",
       ".sk-estimator-doc-link.fitted:hover {\n",
       "  /* fitted */\n",
       "  background-color: var(--sklearn-color-fitted-level-3);\n",
       "  color: var(--sklearn-color-background);\n",
       "  text-decoration: none;\n",
       "}\n",
       "\n",
       "/* Span, style for the box shown on hovering the info icon */\n",
       ".sk-estimator-doc-link span {\n",
       "  display: none;\n",
       "  z-index: 9999;\n",
       "  position: relative;\n",
       "  font-weight: normal;\n",
       "  right: .2ex;\n",
       "  padding: .5ex;\n",
       "  margin: .5ex;\n",
       "  width: min-content;\n",
       "  min-width: 20ex;\n",
       "  max-width: 50ex;\n",
       "  color: var(--sklearn-color-text);\n",
       "  box-shadow: 2pt 2pt 4pt #999;\n",
       "  /* unfitted */\n",
       "  background: var(--sklearn-color-unfitted-level-0);\n",
       "  border: .5pt solid var(--sklearn-color-unfitted-level-3);\n",
       "}\n",
       "\n",
       ".sk-estimator-doc-link.fitted span {\n",
       "  /* fitted */\n",
       "  background: var(--sklearn-color-fitted-level-0);\n",
       "  border: var(--sklearn-color-fitted-level-3);\n",
       "}\n",
       "\n",
       ".sk-estimator-doc-link:hover span {\n",
       "  display: block;\n",
       "}\n",
       "\n",
       "/* \"?\"-specific style due to the `<a>` HTML tag */\n",
       "\n",
       "#sk-container-id-3 a.estimator_doc_link {\n",
       "  float: right;\n",
       "  font-size: 1rem;\n",
       "  line-height: 1em;\n",
       "  font-family: monospace;\n",
       "  background-color: var(--sklearn-color-background);\n",
       "  border-radius: 1rem;\n",
       "  height: 1rem;\n",
       "  width: 1rem;\n",
       "  text-decoration: none;\n",
       "  /* unfitted */\n",
       "  color: var(--sklearn-color-unfitted-level-1);\n",
       "  border: var(--sklearn-color-unfitted-level-1) 1pt solid;\n",
       "}\n",
       "\n",
       "#sk-container-id-3 a.estimator_doc_link.fitted {\n",
       "  /* fitted */\n",
       "  border: var(--sklearn-color-fitted-level-1) 1pt solid;\n",
       "  color: var(--sklearn-color-fitted-level-1);\n",
       "}\n",
       "\n",
       "/* On hover */\n",
       "#sk-container-id-3 a.estimator_doc_link:hover {\n",
       "  /* unfitted */\n",
       "  background-color: var(--sklearn-color-unfitted-level-3);\n",
       "  color: var(--sklearn-color-background);\n",
       "  text-decoration: none;\n",
       "}\n",
       "\n",
       "#sk-container-id-3 a.estimator_doc_link.fitted:hover {\n",
       "  /* fitted */\n",
       "  background-color: var(--sklearn-color-fitted-level-3);\n",
       "}\n",
       "</style><div id=\"sk-container-id-3\" class=\"sk-top-container\"><div class=\"sk-text-repr-fallback\"><pre>RandomizedSearchCV(cv=5, estimator=KNeighborsClassifier(),\n",
       "                   param_distributions=[{&#x27;n_neighbors&#x27;: array([ 5, 10, 15, 20, 25, 30, 35, 40, 45, 50])}],\n",
       "                   scoring=&#x27;accuracy&#x27;)</pre><b>In a Jupyter environment, please rerun this cell to show the HTML representation or trust the notebook. <br />On GitHub, the HTML representation is unable to render, please try loading this page with nbviewer.org.</b></div><div class=\"sk-container\" hidden><div class=\"sk-item sk-dashed-wrapped\"><div class=\"sk-label-container\"><div class=\"sk-label fitted sk-toggleable\"><input class=\"sk-toggleable__control sk-hidden--visually\" id=\"sk-estimator-id-5\" type=\"checkbox\" ><label for=\"sk-estimator-id-5\" class=\"sk-toggleable__label fitted sk-toggleable__label-arrow fitted\">&nbsp;&nbsp;RandomizedSearchCV<a class=\"sk-estimator-doc-link fitted\" rel=\"noreferrer\" target=\"_blank\" href=\"https://scikit-learn.org/1.5/modules/generated/sklearn.model_selection.RandomizedSearchCV.html\">?<span>Documentation for RandomizedSearchCV</span></a><span class=\"sk-estimator-doc-link fitted\">i<span>Fitted</span></span></label><div class=\"sk-toggleable__content fitted\"><pre>RandomizedSearchCV(cv=5, estimator=KNeighborsClassifier(),\n",
       "                   param_distributions=[{&#x27;n_neighbors&#x27;: array([ 5, 10, 15, 20, 25, 30, 35, 40, 45, 50])}],\n",
       "                   scoring=&#x27;accuracy&#x27;)</pre></div> </div></div><div class=\"sk-parallel\"><div class=\"sk-parallel-item\"><div class=\"sk-item\"><div class=\"sk-label-container\"><div class=\"sk-label fitted sk-toggleable\"><input class=\"sk-toggleable__control sk-hidden--visually\" id=\"sk-estimator-id-6\" type=\"checkbox\" ><label for=\"sk-estimator-id-6\" class=\"sk-toggleable__label fitted sk-toggleable__label-arrow fitted\">best_estimator_: KNeighborsClassifier</label><div class=\"sk-toggleable__content fitted\"><pre>KNeighborsClassifier()</pre></div> </div></div><div class=\"sk-serial\"><div class=\"sk-item\"><div class=\"sk-estimator fitted sk-toggleable\"><input class=\"sk-toggleable__control sk-hidden--visually\" id=\"sk-estimator-id-7\" type=\"checkbox\" ><label for=\"sk-estimator-id-7\" class=\"sk-toggleable__label fitted sk-toggleable__label-arrow fitted\">&nbsp;KNeighborsClassifier<a class=\"sk-estimator-doc-link fitted\" rel=\"noreferrer\" target=\"_blank\" href=\"https://scikit-learn.org/1.5/modules/generated/sklearn.neighbors.KNeighborsClassifier.html\">?<span>Documentation for KNeighborsClassifier</span></a></label><div class=\"sk-toggleable__content fitted\"><pre>KNeighborsClassifier()</pre></div> </div></div></div></div></div></div></div></div></div>"
      ],
      "text/plain": [
       "RandomizedSearchCV(cv=5, estimator=KNeighborsClassifier(),\n",
       "                   param_distributions=[{'n_neighbors': array([ 5, 10, 15, 20, 25, 30, 35, 40, 45, 50])}],\n",
       "                   scoring='accuracy')"
      ]
     },
     "execution_count": 76,
     "metadata": {},
     "output_type": "execute_result"
    }
   ],
   "source": [
    "%%time\n",
    "clf_rs = RandomizedSearchCV(KNeighborsClassifier(), tuned_parameters, cv=5, scoring='accuracy')\n",
    "clf_rs.fit(X_train, y_train)"
   ]
  },
  {
   "cell_type": "markdown",
   "id": "a9cd4ffc",
   "metadata": {},
   "source": [
    "Оптимальные параметры:"
   ]
  },
  {
   "cell_type": "code",
   "execution_count": 77,
   "id": "89fccded",
   "metadata": {},
   "outputs": [
    {
     "data": {
      "text/plain": [
       "(0.625, {'n_neighbors': 5})"
      ]
     },
     "execution_count": 77,
     "metadata": {},
     "output_type": "execute_result"
    }
   ],
   "source": [
    "clf_rs.best_score_, clf_rs.best_params_"
   ]
  },
  {
   "cell_type": "markdown",
   "id": "9f12a01f",
   "metadata": {},
   "source": [
    "Изменение качества на тестовой выборке в зависимости от К-соседей:"
   ]
  },
  {
   "cell_type": "code",
   "execution_count": 78,
   "id": "45765c20",
   "metadata": {
    "scrolled": true
   },
   "outputs": [
    {
     "data": {
      "text/plain": [
       "[<matplotlib.lines.Line2D at 0x7f77e53dfe00>]"
      ]
     },
     "execution_count": 78,
     "metadata": {},
     "output_type": "execute_result"
    },
    {
     "data": {
      "image/png": "[encoded data removed]",
      "text/plain": [
       "<Figure size 640x480 with 1 Axes>"
      ]
     },
     "metadata": {},
     "output_type": "display_data"
    }
   ],
   "source": [
    "plt.plot(n_range, clf_rs.cv_results_['mean_test_score'])"
   ]
  },
  {
   "cell_type": "markdown",
   "id": "eeffd808",
   "metadata": {},
   "source": [
    "### Построение оптимальной модели"
   ]
  },
  {
   "cell_type": "markdown",
   "id": "8ca7fa6f",
   "metadata": {},
   "source": [
    "Оптимальное число ближайших соседей = 5. Построим оптимальную модель:"
   ]
  },
  {
   "cell_type": "code",
   "execution_count": 79,
   "id": "c8a681bb",
   "metadata": {},
   "outputs": [
    {
     "data": {
      "text/plain": [
       "(54,\n",
       " array([5, 7, 2, 2, 1, 1, 2, 1, 2, 1, 2, 1, 2, 1, 1, 2, 1, 1, 1, 1, 1, 7,\n",
       "        2, 1, 1, 1, 2, 2, 1, 1, 5, 6, 1, 1, 1, 2, 1, 1, 5, 1, 1, 7, 7, 1,\n",
       "        7, 1, 1, 1, 2, 7, 2, 2, 1, 2]))"
      ]
     },
     "execution_count": 79,
     "metadata": {},
     "output_type": "execute_result"
    }
   ],
   "source": [
    "clf_o = KNeighborsClassifier(n_neighbors=5)\n",
    "clf_o.fit(X_train, y_train)\n",
    "target_o = clf_o.predict(X_test)\n",
    "len(target_o), target_o"
   ]
  },
  {
   "cell_type": "markdown",
   "id": "1a1ad8d8",
   "metadata": {},
   "source": [
    "## Оценка качества исходной и оптимальной модели"
   ]
  },
  {
   "cell_type": "markdown",
   "id": "df50e6e7",
   "metadata": {},
   "source": [
    "### Метрика Accuracy"
   ]
  },
  {
   "cell_type": "markdown",
   "id": "7590c0fc",
   "metadata": {},
   "source": [
    "Она вычисляет процент (в долях) правильно определенных типов."
   ]
  },
  {
   "cell_type": "code",
   "execution_count": 80,
   "id": "c7837037",
   "metadata": {},
   "outputs": [],
   "source": [
    "from sklearn.metrics import accuracy_score, balanced_accuracy_score"
   ]
  },
  {
   "cell_type": "markdown",
   "id": "e4f2cdfb",
   "metadata": {},
   "source": [
    "Проверим для всех типов исходной модели:"
   ]
  },
  {
   "cell_type": "code",
   "execution_count": 81,
   "id": "a462224e",
   "metadata": {},
   "outputs": [
    {
     "data": {
      "text/plain": [
       "0.6851851851851852"
      ]
     },
     "execution_count": 81,
     "metadata": {},
     "output_type": "execute_result"
    }
   ],
   "source": [
    "accuracy_score(y_test, target_i)"
   ]
  },
  {
   "cell_type": "markdown",
   "id": "e22febc9",
   "metadata": {},
   "source": [
    "И оптимальной модели:"
   ]
  },
  {
   "cell_type": "code",
   "execution_count": 82,
   "id": "669550fd",
   "metadata": {},
   "outputs": [
    {
     "data": {
      "text/plain": [
       "0.7222222222222222"
      ]
     },
     "execution_count": 82,
     "metadata": {},
     "output_type": "execute_result"
    }
   ],
   "source": [
    "accuracy_score(y_test, target_o)"
   ]
  },
  {
   "cell_type": "markdown",
   "id": "dd984067",
   "metadata": {},
   "source": [
    "Видно, что точность оптимальной модели (5 ближайших соседей) выше, чем в исходной модели (20)."
   ]
  },
  {
   "cell_type": "markdown",
   "id": "86661a04",
   "metadata": {},
   "source": [
    "Теперь проверим для каждого конкретного типа:"
   ]
  },
  {
   "cell_type": "code",
   "execution_count": 83,
   "id": "74b5c1f2",
   "metadata": {},
   "outputs": [],
   "source": [
    "def accuracy_score_for_types(\n",
    "    y_true: np.ndarray, \n",
    "    y_pred: np.ndarray) -> Dict[int, float]:\n",
    "    d = {'t': y_true, 'p': y_pred}\n",
    "    df = pd.DataFrame(data=d)\n",
    "    types = np.unique(y_true)\n",
    "    res = dict()\n",
    "    for t in types:\n",
    "        temp_data_flt = df[df['t']==t]\n",
    "        temp_acc = accuracy_score(\n",
    "            temp_data_flt['t'].values, \n",
    "            temp_data_flt['p'].values)\n",
    "        res[t] = temp_acc\n",
    "    return res\n",
    "\n",
    "def print_accuracy_score_for_types(\n",
    "    y_true: np.ndarray, \n",
    "    y_pred: np.ndarray):\n",
    "    accs = accuracy_score_for_types(y_true, y_pred)\n",
    "    if len(accs)>0:\n",
    "        print('Тип \\t Accuracy')\n",
    "    for i in accs:\n",
    "        print('{} \\t {}'.format(i, accs[i]))"
   ]
  },
  {
   "cell_type": "markdown",
   "id": "214e7d4a",
   "metadata": {},
   "source": [
    "Для исходной модели:"
   ]
  },
  {
   "cell_type": "code",
   "execution_count": 84,
   "id": "254d099a",
   "metadata": {},
   "outputs": [
    {
     "name": "stdout",
     "output_type": "stream",
     "text": [
      "Тип \t Accuracy\n",
      "1 \t 0.8260869565217391\n",
      "2 \t 0.6875\n",
      "3 \t 0.0\n",
      "5 \t 1.0\n",
      "6 \t 0.0\n",
      "7 \t 1.0\n"
     ]
    }
   ],
   "source": [
    "print_accuracy_score_for_types(y_test, target_i)"
   ]
  },
  {
   "cell_type": "markdown",
   "id": "3d36f2fd",
   "metadata": {},
   "source": [
    "Видим, что процент \"Accuracy\" для типа 1 составляет 83%, для типа 2 - 68%, для типа 3 - 0%. Для типов 5, 6, 7 \"Accuracy\" составляет 100%."
   ]
  },
  {
   "cell_type": "markdown",
   "id": "714bd1f3",
   "metadata": {},
   "source": [
    "Для оптимальной модели:"
   ]
  },
  {
   "cell_type": "code",
   "execution_count": 85,
   "id": "3b4152c5",
   "metadata": {},
   "outputs": [
    {
     "name": "stdout",
     "output_type": "stream",
     "text": [
      "Тип \t Accuracy\n",
      "1 \t 0.8695652173913043\n",
      "2 \t 0.6875\n",
      "3 \t 0.0\n",
      "5 \t 1.0\n",
      "6 \t 1.0\n",
      "7 \t 1.0\n"
     ]
    }
   ],
   "source": [
    "print_accuracy_score_for_types(y_test, target_o)"
   ]
  },
  {
   "cell_type": "markdown",
   "id": "cf1c346e",
   "metadata": {},
   "source": [
    "Результаты схожи, но у типа 1 метрика составляет уже 87%."
   ]
  },
  {
   "cell_type": "markdown",
   "id": "d04c6cce",
   "metadata": {},
   "source": [
    "### Метрика balanced_accuracy_score"
   ]
  },
  {
   "cell_type": "markdown",
   "id": "0b78318c",
   "metadata": {},
   "source": [
    "Используется для бинарной классификации. Сконвертируем данные и выведем метрику:"
   ]
  },
  {
   "cell_type": "code",
   "execution_count": 86,
   "id": "149843e1",
   "metadata": {},
   "outputs": [],
   "source": [
    "def convert_target_to_binary(array:np.ndarray, target:int) -> np.ndarray:\n",
    "    res = [1 if x==target else 0 for x in array]\n",
    "    return res"
   ]
  },
  {
   "cell_type": "code",
   "execution_count": 87,
   "id": "e651d160",
   "metadata": {},
   "outputs": [
    {
     "data": {
      "text/plain": [
       "[(5, 0),\n",
       " (2, 1),\n",
       " (7, 0),\n",
       " (1, 0),\n",
       " (7, 0),\n",
       " (7, 0),\n",
       " (2, 1),\n",
       " (2, 1),\n",
       " (2, 1),\n",
       " (2, 1)]"
      ]
     },
     "execution_count": 87,
     "metadata": {},
     "output_type": "execute_result"
    }
   ],
   "source": [
    "bin_y_train = convert_target_to_binary(y_train, 2)\n",
    "list(zip(y_train, bin_y_train))[:10]"
   ]
  },
  {
   "cell_type": "code",
   "execution_count": 88,
   "id": "96b5fa27",
   "metadata": {},
   "outputs": [
    {
     "data": {
      "text/plain": [
       "[(2, 1),\n",
       " (7, 0),\n",
       " (2, 1),\n",
       " (2, 1),\n",
       " (1, 0),\n",
       " (1, 0),\n",
       " (1, 0),\n",
       " (3, 0),\n",
       " (1, 0),\n",
       " (1, 0)]"
      ]
     },
     "execution_count": 88,
     "metadata": {},
     "output_type": "execute_result"
    }
   ],
   "source": [
    "bin_y_test = convert_target_to_binary(y_test, 2)\n",
    "list(zip(y_test, bin_y_test))[:10]"
   ]
  },
  {
   "cell_type": "markdown",
   "id": "b8fcb97f",
   "metadata": {},
   "source": [
    "Для исходной модели:"
   ]
  },
  {
   "cell_type": "code",
   "execution_count": 89,
   "id": "8f126e35",
   "metadata": {},
   "outputs": [],
   "source": [
    "bin_target_i = convert_target_to_binary(target_i, 2)"
   ]
  },
  {
   "cell_type": "code",
   "execution_count": 90,
   "id": "a500659e",
   "metadata": {},
   "outputs": [
    {
     "data": {
      "text/plain": [
       "0.7516447368421053"
      ]
     },
     "execution_count": 90,
     "metadata": {},
     "output_type": "execute_result"
    }
   ],
   "source": [
    "balanced_accuracy_score(bin_y_test, bin_target_i)"
   ]
  },
  {
   "cell_type": "markdown",
   "id": "25eed308",
   "metadata": {},
   "source": [
    "Для оптимальной модели:"
   ]
  },
  {
   "cell_type": "code",
   "execution_count": 91,
   "id": "d7e126fe",
   "metadata": {},
   "outputs": [],
   "source": [
    "bin_target_o = convert_target_to_binary(target_o, 2)"
   ]
  },
  {
   "cell_type": "code",
   "execution_count": 92,
   "id": "4ef5dbca",
   "metadata": {},
   "outputs": [
    {
     "data": {
      "text/plain": [
       "0.7911184210526316"
      ]
     },
     "execution_count": 92,
     "metadata": {},
     "output_type": "execute_result"
    }
   ],
   "source": [
    "balanced_accuracy_score(bin_y_test, bin_target_o)"
   ]
  },
  {
   "cell_type": "markdown",
   "id": "7a1718c6",
   "metadata": {},
   "source": [
    "Видно, что у исходной модели метрика составляет 75%, а у оптимальной - 79%."
   ]
  },
  {
   "cell_type": "markdown",
   "id": "46ac32c0",
   "metadata": {},
   "source": [
    "### Метрика \"Матрица ошибок\""
   ]
  },
  {
   "cell_type": "markdown",
   "id": "ef6f3fa9",
   "metadata": {},
   "source": [
    "Создадим матрицу с помощью функции confusion_matrix:"
   ]
  },
  {
   "cell_type": "code",
   "execution_count": 93,
   "id": "45fe47eb",
   "metadata": {},
   "outputs": [],
   "source": [
    "from sklearn.metrics import ConfusionMatrixDisplay\n",
    "from sklearn.metrics import confusion_matrix"
   ]
  },
  {
   "cell_type": "markdown",
   "id": "b0eb2571",
   "metadata": {},
   "source": [
    "Для исходной модели:"
   ]
  },
  {
   "cell_type": "code",
   "execution_count": 94,
   "id": "b4b9918e",
   "metadata": {},
   "outputs": [
    {
     "data": {
      "text/plain": [
       "array([[ 0,  0,  0,  0,  0,  0,  0,  0],\n",
       "       [ 0, 19,  4,  0,  0,  0,  0,  0],\n",
       "       [ 0,  3, 11,  0,  0,  2,  0,  0],\n",
       "       [ 0,  4,  3,  0,  0,  0,  0,  0],\n",
       "       [ 0,  0,  0,  0,  0,  0,  0,  0],\n",
       "       [ 0,  0,  0,  0,  0,  1,  0,  0],\n",
       "       [ 0,  0,  0,  0,  0,  0,  0,  1],\n",
       "       [ 0,  0,  0,  0,  0,  0,  0,  6]])"
      ]
     },
     "execution_count": 94,
     "metadata": {},
     "output_type": "execute_result"
    }
   ],
   "source": [
    "confusion_matrix(y_test, target_i, labels=[0, 1, 2, 3, 4, 5, 6, 7])"
   ]
  },
  {
   "cell_type": "markdown",
   "id": "7535dea6",
   "metadata": {},
   "source": [
    "Визуально представим матрицу ошибок, показывающую количество верно и ошибочно классифицированных данных:"
   ]
  },
  {
   "cell_type": "code",
   "execution_count": 95,
   "id": "07b35f8e",
   "metadata": {},
   "outputs": [
    {
     "data": {
      "text/plain": [
       "<sklearn.metrics._plot.confusion_matrix.ConfusionMatrixDisplay at 0x7f77e53b7740>"
      ]
     },
     "execution_count": 95,
     "metadata": {},
     "output_type": "execute_result"
    },
    {
     "data": {
      "image/png": "[encoded data removed]",
      "text/plain": [
       "<Figure size 640x480 with 2 Axes>"
      ]
     },
     "metadata": {},
     "output_type": "display_data"
    }
   ],
   "source": [
    "ConfusionMatrixDisplay.from_estimator(\n",
    "        clf_i,\n",
    "        X_test,\n",
    "        y_test,\n",
    "        display_labels=clf_i.classes_,\n",
    "        cmap=plt.cm.Blues,\n",
    "        normalize='true',\n",
    "    )"
   ]
  },
  {
   "cell_type": "markdown",
   "id": "e40288be",
   "metadata": {},
   "source": [
    "Для оптимальной модели:"
   ]
  },
  {
   "cell_type": "code",
   "execution_count": 96,
   "id": "00717af1",
   "metadata": {},
   "outputs": [
    {
     "data": {
      "text/plain": [
       "array([[ 0,  0,  0,  0,  0,  0,  0,  0],\n",
       "       [ 0, 20,  3,  0,  0,  0,  0,  0],\n",
       "       [ 0,  3, 11,  0,  0,  2,  0,  0],\n",
       "       [ 0,  6,  1,  0,  0,  0,  0,  0],\n",
       "       [ 0,  0,  0,  0,  0,  0,  0,  0],\n",
       "       [ 0,  0,  0,  0,  0,  1,  0,  0],\n",
       "       [ 0,  0,  0,  0,  0,  0,  1,  0],\n",
       "       [ 0,  0,  0,  0,  0,  0,  0,  6]])"
      ]
     },
     "execution_count": 96,
     "metadata": {},
     "output_type": "execute_result"
    }
   ],
   "source": [
    "confusion_matrix(y_test, target_o, labels=[0, 1, 2, 3, 4, 5, 6, 7])"
   ]
  },
  {
   "cell_type": "code",
   "execution_count": 97,
   "id": "3eb0cbb5",
   "metadata": {},
   "outputs": [
    {
     "data": {
      "text/plain": [
       "<sklearn.metrics._plot.confusion_matrix.ConfusionMatrixDisplay at 0x7f77e53f3470>"
      ]
     },
     "execution_count": 97,
     "metadata": {},
     "output_type": "execute_result"
    },
    {
     "data": {
      "image/png": "[encoded data removed]",
      "text/plain": [
       "<Figure size 640x480 with 2 Axes>"
      ]
     },
     "metadata": {},
     "output_type": "display_data"
    }
   ],
   "source": [
    "ConfusionMatrixDisplay.from_estimator(\n",
    "        clf_o,\n",
    "        X_test,\n",
    "        y_test,\n",
    "        display_labels=clf_o.classes_,\n",
    "        cmap=plt.cm.Blues,\n",
    "        normalize='true',\n",
    "    )"
   ]
  },
  {
   "cell_type": "markdown",
   "id": "26ee5023",
   "metadata": {},
   "source": [
    "Точность у оптимальной модели выше, чем у исходной. "
   ]
  },
  {
   "cell_type": "markdown",
   "id": "9ea16d9f",
   "metadata": {},
   "source": [
    "### Метрика Precision"
   ]
  },
  {
   "cell_type": "markdown",
   "id": "af32afa0",
   "metadata": {},
   "source": [
    "Precision показывает долю верно предсказанных классификатором положительных объектов из всех объектов, которые классификатор верно или неверно определил как положительные."
   ]
  },
  {
   "cell_type": "code",
   "execution_count": 98,
   "id": "c5d9fa96",
   "metadata": {},
   "outputs": [],
   "source": [
    "from sklearn.metrics import precision_score"
   ]
  },
  {
   "cell_type": "markdown",
   "id": "c0a8a028",
   "metadata": {},
   "source": [
    "Для исходной модели:"
   ]
  },
  {
   "cell_type": "code",
   "execution_count": 99,
   "id": "16ac699f",
   "metadata": {},
   "outputs": [
    {
     "data": {
      "text/plain": [
       "0.6111111111111112"
      ]
     },
     "execution_count": 99,
     "metadata": {},
     "output_type": "execute_result"
    }
   ],
   "source": [
    "precision_score(bin_y_test, bin_target_i)"
   ]
  },
  {
   "cell_type": "markdown",
   "id": "e3718863",
   "metadata": {},
   "source": [
    "Для оптимальной модели:"
   ]
  },
  {
   "cell_type": "code",
   "execution_count": 100,
   "id": "80b9e811",
   "metadata": {},
   "outputs": [
    {
     "data": {
      "text/plain": [
       "0.7333333333333333"
      ]
     },
     "execution_count": 100,
     "metadata": {},
     "output_type": "execute_result"
    }
   ],
   "source": [
    "precision_score(bin_y_test, bin_target_o)"
   ]
  },
  {
   "cell_type": "markdown",
   "id": "d9cd3537",
   "metadata": {},
   "source": [
    "Также видна улучшенная точность у оптимальной по отношению к исходной (73% и 61%)."
   ]
  },
  {
   "cell_type": "markdown",
   "id": "5c181d33",
   "metadata": {},
   "source": [
    "### Метрика Recall"
   ]
  },
  {
   "cell_type": "markdown",
   "id": "f802b6c8",
   "metadata": {},
   "source": [
    "Recall показывает долю верно предсказанных классификатором положительных объектов, из всех действительно положительных объектов."
   ]
  },
  {
   "cell_type": "code",
   "execution_count": 101,
   "id": "4eac8a30",
   "metadata": {},
   "outputs": [],
   "source": [
    "from sklearn.metrics import recall_score"
   ]
  },
  {
   "cell_type": "markdown",
   "id": "986cc4b8",
   "metadata": {},
   "source": [
    "Для исходной:"
   ]
  },
  {
   "cell_type": "code",
   "execution_count": 102,
   "id": "b4dff7e6",
   "metadata": {},
   "outputs": [
    {
     "data": {
      "text/plain": [
       "0.6875"
      ]
     },
     "execution_count": 102,
     "metadata": {},
     "output_type": "execute_result"
    }
   ],
   "source": [
    "recall_score(bin_y_test, bin_target_i)"
   ]
  },
  {
   "cell_type": "markdown",
   "id": "5af296b0",
   "metadata": {},
   "source": [
    "Для оптимальной:"
   ]
  },
  {
   "cell_type": "code",
   "execution_count": 103,
   "id": "1df0c127",
   "metadata": {},
   "outputs": [
    {
     "data": {
      "text/plain": [
       "0.6875"
      ]
     },
     "execution_count": 103,
     "metadata": {},
     "output_type": "execute_result"
    }
   ],
   "source": [
    "recall_score(bin_y_test, bin_target_o)"
   ]
  },
  {
   "cell_type": "markdown",
   "id": "8d8428a8",
   "metadata": {},
   "source": [
    "Точность моделей одинакова - 69%."
   ]
  },
  {
   "cell_type": "markdown",
   "id": "f6a9f12a",
   "metadata": {},
   "source": [
    "### Метрика F1-мера"
   ]
  },
  {
   "cell_type": "markdown",
   "id": "36709ed2",
   "metadata": {},
   "source": [
    "Для объединения метрик Precision и Recall используют F-меру - среднее гармоническое от Precision и Recall. В F1 мере вес точности = 1."
   ]
  },
  {
   "cell_type": "code",
   "execution_count": 104,
   "id": "3978319e",
   "metadata": {},
   "outputs": [],
   "source": [
    "from sklearn.metrics import f1_score"
   ]
  },
  {
   "cell_type": "markdown",
   "id": "9183d26e",
   "metadata": {},
   "source": [
    "Для исходной:"
   ]
  },
  {
   "cell_type": "code",
   "execution_count": 105,
   "id": "3513f5ae",
   "metadata": {},
   "outputs": [
    {
     "data": {
      "text/plain": [
       "0.6470588235294118"
      ]
     },
     "execution_count": 105,
     "metadata": {},
     "output_type": "execute_result"
    }
   ],
   "source": [
    "f1_score(bin_y_test, bin_target_i)"
   ]
  },
  {
   "cell_type": "markdown",
   "id": "71391f7e",
   "metadata": {},
   "source": [
    "Для оптимальной:"
   ]
  },
  {
   "cell_type": "code",
   "execution_count": 106,
   "id": "f844516b",
   "metadata": {},
   "outputs": [
    {
     "data": {
      "text/plain": [
       "0.7096774193548387"
      ]
     },
     "execution_count": 106,
     "metadata": {},
     "output_type": "execute_result"
    }
   ],
   "source": [
    "f1_score(bin_y_test, bin_target_o)"
   ]
  },
  {
   "cell_type": "markdown",
   "id": "ada66c59",
   "metadata": {},
   "source": [
    "Точность оптимальной модели выше."
   ]
  },
  {
   "cell_type": "markdown",
   "id": "811db8e9",
   "metadata": {},
   "source": [
    "### Вывод метрик через classification_report"
   ]
  },
  {
   "cell_type": "markdown",
   "id": "458f83a6",
   "metadata": {},
   "source": [
    "Функция classification_report позволяет выводить значения точности, полноты и F-меры для всех классов выборки:"
   ]
  },
  {
   "cell_type": "code",
   "execution_count": 107,
   "id": "7103e601",
   "metadata": {},
   "outputs": [],
   "source": [
    "from sklearn.metrics import classification_report"
   ]
  },
  {
   "cell_type": "markdown",
   "id": "db39562d",
   "metadata": {},
   "source": [
    "Для исходной:"
   ]
  },
  {
   "cell_type": "code",
   "execution_count": 108,
   "id": "1616226a",
   "metadata": {},
   "outputs": [
    {
     "data": {
      "text/plain": [
       "{1: {'precision': 0.7307692307692307,\n",
       "  'recall': 0.8260869565217391,\n",
       "  'f1-score': 0.7755102040816326,\n",
       "  'support': 23.0},\n",
       " 2: {'precision': 0.6111111111111112,\n",
       "  'recall': 0.6875,\n",
       "  'f1-score': 0.6470588235294118,\n",
       "  'support': 16.0},\n",
       " 3: {'precision': 0.0, 'recall': 0.0, 'f1-score': 0.0, 'support': 7.0},\n",
       " 5: {'precision': 0.3333333333333333,\n",
       "  'recall': 1.0,\n",
       "  'f1-score': 0.5,\n",
       "  'support': 1.0},\n",
       " 6: {'precision': 0.0, 'recall': 0.0, 'f1-score': 0.0, 'support': 1.0},\n",
       " 7: {'precision': 0.8571428571428571,\n",
       "  'recall': 1.0,\n",
       "  'f1-score': 0.9230769230769231,\n",
       "  'support': 6.0},\n",
       " 'accuracy': 0.6851851851851852,\n",
       " 'macro avg': {'precision': 0.42205942205942204,\n",
       "  'recall': 0.5855978260869565,\n",
       "  'f1-score': 0.4742743251146613,\n",
       "  'support': 54.0},\n",
       " 'weighted avg': {'precision': 0.593734454845566,\n",
       "  'recall': 0.6851851851851852,\n",
       "  'f1-score': 0.6338543964594385,\n",
       "  'support': 54.0}}"
      ]
     },
     "execution_count": 108,
     "metadata": {},
     "output_type": "execute_result"
    }
   ],
   "source": [
    "import warnings\n",
    "warnings.filterwarnings('ignore')\n",
    "classification_report(y_test, target_i, \n",
    "                      target_names=clf_i.classes_, output_dict=True)"
   ]
  },
  {
   "cell_type": "markdown",
   "id": "b151cd84",
   "metadata": {},
   "source": [
    "Для оптимальной:"
   ]
  },
  {
   "cell_type": "code",
   "execution_count": 109,
   "id": "fd69b0a6",
   "metadata": {},
   "outputs": [
    {
     "data": {
      "text/plain": [
       "{1: {'precision': 0.6896551724137931,\n",
       "  'recall': 0.8695652173913043,\n",
       "  'f1-score': 0.7692307692307693,\n",
       "  'support': 23.0},\n",
       " 2: {'precision': 0.7333333333333333,\n",
       "  'recall': 0.6875,\n",
       "  'f1-score': 0.7096774193548387,\n",
       "  'support': 16.0},\n",
       " 3: {'precision': 0.0, 'recall': 0.0, 'f1-score': 0.0, 'support': 7.0},\n",
       " 5: {'precision': 0.3333333333333333,\n",
       "  'recall': 1.0,\n",
       "  'f1-score': 0.5,\n",
       "  'support': 1.0},\n",
       " 6: {'precision': 1.0, 'recall': 1.0, 'f1-score': 1.0, 'support': 1.0},\n",
       " 7: {'precision': 1.0, 'recall': 1.0, 'f1-score': 1.0, 'support': 6.0},\n",
       " 'accuracy': 0.7222222222222222,\n",
       " 'macro avg': {'precision': 0.6260536398467433,\n",
       "  'recall': 0.7595108695652174,\n",
       "  'f1-score': 0.6631513647642681,\n",
       "  'support': 54.0},\n",
       " 'weighted avg': {'precision': 0.6468284376330352,\n",
       "  'recall': 0.7222222222222222,\n",
       "  'f1-score': 0.6767990074441689,\n",
       "  'support': 54.0}}"
      ]
     },
     "execution_count": 109,
     "metadata": {},
     "output_type": "execute_result"
    }
   ],
   "source": [
    "import warnings\n",
    "warnings.filterwarnings('ignore')\n",
    "classification_report(y_test, target_o, \n",
    "                      target_names=clf_o.classes_, output_dict=True)"
   ]
  },
  {
   "cell_type": "markdown",
   "id": "cce266ae",
   "metadata": {},
   "source": [
    "### ROC-кривая и ROC AUC"
   ]
  },
  {
   "cell_type": "markdown",
   "id": "7a259016",
   "metadata": {},
   "source": [
    "Используется для оценки качества бинарной классификации."
   ]
  },
  {
   "cell_type": "markdown",
   "id": "db2ba8ae",
   "metadata": {},
   "source": [
    "Обучим исходную модель на основе бинарной классифкации, чтобы получить вероятности типов:"
   ]
  },
  {
   "cell_type": "code",
   "execution_count": 110,
   "id": "d6ad55e2",
   "metadata": {},
   "outputs": [
    {
     "data": {
      "text/plain": [
       "array([0, 0, 0, 0, 0, 0, 1, 0, 1, 0, 1, 0, 1, 0, 0, 0, 0, 0, 0, 0, 0, 0,\n",
       "       1, 0, 0, 0, 1, 1, 0, 0, 0, 0, 0, 0, 0, 0, 1, 0, 0, 0, 0, 0, 0, 0,\n",
       "       0, 0, 1, 0, 1, 0, 0, 1, 0, 1])"
      ]
     },
     "execution_count": 110,
     "metadata": {},
     "output_type": "execute_result"
    }
   ],
   "source": [
    "bin_clf_i = KNeighborsClassifier(n_neighbors=20)\n",
    "bin_clf_i.fit(X_train, bin_y_train)\n",
    "bin_clf_i.predict(X_test)"
   ]
  },
  {
   "cell_type": "markdown",
   "id": "322ec90f",
   "metadata": {},
   "source": [
    "Предскажем вероятности типов:"
   ]
  },
  {
   "cell_type": "code",
   "execution_count": 111,
   "id": "afa172b9",
   "metadata": {},
   "outputs": [
    {
     "data": {
      "text/plain": [
       "(54,\n",
       " array([[0.75, 0.25],\n",
       "        [1.  , 0.  ],\n",
       "        [0.55, 0.45],\n",
       "        [0.55, 0.45],\n",
       "        [0.6 , 0.4 ],\n",
       "        [0.8 , 0.2 ],\n",
       "        [0.45, 0.55],\n",
       "        [0.7 , 0.3 ],\n",
       "        [0.3 , 0.7 ],\n",
       "        [0.75, 0.25],\n",
       "        [0.2 , 0.8 ],\n",
       "        [0.95, 0.05],\n",
       "        [0.45, 0.55],\n",
       "        [0.8 , 0.2 ],\n",
       "        [0.65, 0.35],\n",
       "        [0.55, 0.45],\n",
       "        [0.55, 0.45],\n",
       "        [0.75, 0.25],\n",
       "        [0.95, 0.05],\n",
       "        [0.95, 0.05],\n",
       "        [0.8 , 0.2 ],\n",
       "        [1.  , 0.  ],\n",
       "        [0.25, 0.75],\n",
       "        [0.75, 0.25],\n",
       "        [0.6 , 0.4 ],\n",
       "        [0.65, 0.35],\n",
       "        [0.15, 0.85],\n",
       "        [0.3 , 0.7 ],\n",
       "        [0.5 , 0.5 ],\n",
       "        [0.9 , 0.1 ],\n",
       "        [0.75, 0.25],\n",
       "        [0.85, 0.15],\n",
       "        [0.8 , 0.2 ],\n",
       "        [0.75, 0.25],\n",
       "        [0.8 , 0.2 ],\n",
       "        [0.55, 0.45],\n",
       "        [0.45, 0.55],\n",
       "        [0.55, 0.45],\n",
       "        [0.75, 0.25],\n",
       "        [0.8 , 0.2 ],\n",
       "        [0.8 , 0.2 ],\n",
       "        [1.  , 0.  ],\n",
       "        [1.  , 0.  ],\n",
       "        [0.9 , 0.1 ],\n",
       "        [1.  , 0.  ],\n",
       "        [0.75, 0.25],\n",
       "        [0.4 , 0.6 ],\n",
       "        [0.85, 0.15],\n",
       "        [0.2 , 0.8 ],\n",
       "        [1.  , 0.  ],\n",
       "        [0.65, 0.35],\n",
       "        [0.4 , 0.6 ],\n",
       "        [0.8 , 0.2 ],\n",
       "        [0.3 , 0.7 ]]))"
      ]
     },
     "execution_count": 111,
     "metadata": {},
     "output_type": "execute_result"
    }
   ],
   "source": [
    "proba_target_i = bin_clf_i.predict_proba(X_test)\n",
    "len(proba_target_i), proba_target_i"
   ]
  },
  {
   "cell_type": "markdown",
   "id": "29804f15",
   "metadata": {},
   "source": [
    "Вероятность единичного класса:"
   ]
  },
  {
   "cell_type": "code",
   "execution_count": 112,
   "id": "7c7db20b",
   "metadata": {},
   "outputs": [
    {
     "data": {
      "text/plain": [
       "array([0.25, 0.  , 0.45, 0.45, 0.4 , 0.2 , 0.55, 0.3 , 0.7 , 0.25, 0.8 ,\n",
       "       0.05, 0.55, 0.2 , 0.35, 0.45, 0.45, 0.25, 0.05, 0.05, 0.2 , 0.  ,\n",
       "       0.75, 0.25, 0.4 , 0.35, 0.85, 0.7 , 0.5 , 0.1 , 0.25, 0.15, 0.2 ,\n",
       "       0.25, 0.2 , 0.45, 0.55, 0.45, 0.25, 0.2 , 0.2 , 0.  , 0.  , 0.1 ,\n",
       "       0.  , 0.25, 0.6 , 0.15, 0.8 , 0.  , 0.35, 0.6 , 0.2 , 0.7 ])"
      ]
     },
     "execution_count": 112,
     "metadata": {},
     "output_type": "execute_result"
    }
   ],
   "source": [
    "true_proba_target_i = proba_target_i[:,1]\n",
    "true_proba_target_i"
   ]
  },
  {
   "cell_type": "markdown",
   "id": "ea841a4e",
   "metadata": {},
   "source": [
    "ROC-кривая:"
   ]
  },
  {
   "cell_type": "code",
   "execution_count": 113,
   "id": "2eb005e3",
   "metadata": {},
   "outputs": [],
   "source": [
    "from sklearn.metrics import roc_curve, roc_auc_score"
   ]
  },
  {
   "cell_type": "code",
   "execution_count": 114,
   "id": "5c1d0459",
   "metadata": {},
   "outputs": [],
   "source": [
    "def draw_roc_curve(y_true, y_score, pos_label, average):\n",
    "    fpr, tpr, thresholds = roc_curve(y_true, y_score, \n",
    "                                     pos_label=pos_label)\n",
    "    roc_auc_value = roc_auc_score(y_true, y_score, average=average)\n",
    "    plt.figure()\n",
    "    lw = 2\n",
    "    plt.plot(fpr, tpr, color='darkorange',\n",
    "             lw=lw, label='ROC curve (area = %0.2f)' % roc_auc_value)\n",
    "    plt.plot([0, 1], [0, 1], color='navy', lw=lw, linestyle='--')\n",
    "    plt.xlim([0.0, 1.0])\n",
    "    plt.ylim([0.0, 1.05])\n",
    "    plt.xlabel('False Positive Rate')\n",
    "    plt.ylabel('True Positive Rate')\n",
    "    plt.title('Receiver operating characteristic')\n",
    "    plt.legend(loc=\"lower right\")\n",
    "    plt.show()"
   ]
  },
  {
   "cell_type": "code",
   "execution_count": 115,
   "id": "1f5ea0d6",
   "metadata": {},
   "outputs": [
    {
     "data": {
      "image/png": "[encoded data removed]",
      "text/plain": [
       "<Figure size 640x480 with 1 Axes>"
      ]
     },
     "metadata": {},
     "output_type": "display_data"
    }
   ],
   "source": [
    "draw_roc_curve(bin_y_test, bin_target_i, pos_label=1, average='micro')"
   ]
  },
  {
   "cell_type": "markdown",
   "id": "e5fd24d5",
   "metadata": {},
   "source": [
    "Сделаем тоже самое для оптимальной модели:"
   ]
  },
  {
   "cell_type": "code",
   "execution_count": 116,
   "id": "d2c96d60",
   "metadata": {},
   "outputs": [
    {
     "data": {
      "text/plain": [
       "array([0, 0, 1, 1, 0, 0, 1, 0, 1, 0, 1, 0, 1, 0, 0, 1, 0, 0, 0, 0, 0, 0,\n",
       "       1, 0, 0, 0, 1, 1, 0, 0, 0, 0, 0, 0, 0, 1, 0, 0, 0, 0, 0, 0, 0, 0,\n",
       "       0, 0, 0, 0, 1, 0, 1, 1, 0, 1])"
      ]
     },
     "execution_count": 116,
     "metadata": {},
     "output_type": "execute_result"
    }
   ],
   "source": [
    "bin_clf_o = KNeighborsClassifier(n_neighbors=5)\n",
    "bin_clf_o.fit(X_train, bin_y_train)\n",
    "bin_clf_o.predict(X_test)"
   ]
  },
  {
   "cell_type": "code",
   "execution_count": 117,
   "id": "98fb506d",
   "metadata": {},
   "outputs": [
    {
     "data": {
      "text/plain": [
       "(54,\n",
       " array([[1. , 0. ],\n",
       "        [1. , 0. ],\n",
       "        [0.4, 0.6],\n",
       "        [0.2, 0.8],\n",
       "        [0.8, 0.2],\n",
       "        [1. , 0. ],\n",
       "        [0.4, 0.6],\n",
       "        [0.8, 0.2],\n",
       "        [0.4, 0.6],\n",
       "        [1. , 0. ],\n",
       "        [0. , 1. ],\n",
       "        [1. , 0. ],\n",
       "        [0.2, 0.8],\n",
       "        [1. , 0. ],\n",
       "        [1. , 0. ],\n",
       "        [0.2, 0.8],\n",
       "        [0.6, 0.4],\n",
       "        [0.8, 0.2],\n",
       "        [1. , 0. ],\n",
       "        [1. , 0. ],\n",
       "        [0.8, 0.2],\n",
       "        [1. , 0. ],\n",
       "        [0.2, 0.8],\n",
       "        [1. , 0. ],\n",
       "        [0.8, 0.2],\n",
       "        [0.8, 0.2],\n",
       "        [0.2, 0.8],\n",
       "        [0. , 1. ],\n",
       "        [0.8, 0.2],\n",
       "        [1. , 0. ],\n",
       "        [1. , 0. ],\n",
       "        [0.8, 0.2],\n",
       "        [1. , 0. ],\n",
       "        [1. , 0. ],\n",
       "        [0.8, 0.2],\n",
       "        [0.4, 0.6],\n",
       "        [0.8, 0.2],\n",
       "        [0.8, 0.2],\n",
       "        [0.8, 0.2],\n",
       "        [1. , 0. ],\n",
       "        [1. , 0. ],\n",
       "        [1. , 0. ],\n",
       "        [1. , 0. ],\n",
       "        [1. , 0. ],\n",
       "        [1. , 0. ],\n",
       "        [0.8, 0.2],\n",
       "        [0.6, 0.4],\n",
       "        [1. , 0. ],\n",
       "        [0.2, 0.8],\n",
       "        [1. , 0. ],\n",
       "        [0.4, 0.6],\n",
       "        [0.4, 0.6],\n",
       "        [0.6, 0.4],\n",
       "        [0. , 1. ]]))"
      ]
     },
     "execution_count": 117,
     "metadata": {},
     "output_type": "execute_result"
    }
   ],
   "source": [
    "proba_target_o = bin_clf_o.predict_proba(X_test)\n",
    "len(proba_target_o), proba_target_o"
   ]
  },
  {
   "cell_type": "code",
   "execution_count": 118,
   "id": "f769c013",
   "metadata": {},
   "outputs": [
    {
     "data": {
      "text/plain": [
       "array([0. , 0. , 0.6, 0.8, 0.2, 0. , 0.6, 0.2, 0.6, 0. , 1. , 0. , 0.8,\n",
       "       0. , 0. , 0.8, 0.4, 0.2, 0. , 0. , 0.2, 0. , 0.8, 0. , 0.2, 0.2,\n",
       "       0.8, 1. , 0.2, 0. , 0. , 0.2, 0. , 0. , 0.2, 0.6, 0.2, 0.2, 0.2,\n",
       "       0. , 0. , 0. , 0. , 0. , 0. , 0.2, 0.4, 0. , 0.8, 0. , 0.6, 0.6,\n",
       "       0.4, 1. ])"
      ]
     },
     "execution_count": 118,
     "metadata": {},
     "output_type": "execute_result"
    }
   ],
   "source": [
    "true_proba_target_o = proba_target_o[:,1]\n",
    "true_proba_target_o"
   ]
  },
  {
   "cell_type": "code",
   "execution_count": 119,
   "id": "b6473637",
   "metadata": {},
   "outputs": [
    {
     "data": {
      "image/png": "[encoded data removed]",
      "text/plain": [
       "<Figure size 640x480 with 1 Axes>"
      ]
     },
     "metadata": {},
     "output_type": "display_data"
    }
   ],
   "source": [
    "draw_roc_curve(bin_y_test, bin_target_o, pos_label=1, average='micro')"
   ]
  },
  {
   "cell_type": "markdown",
   "id": "05171c4b",
   "metadata": {},
   "source": [
    "Видно, что у оптимальной модели выше точность, чем у исходной."
   ]
  }
 ],
 "metadata": {
  "authors": [
   {
    "name": "Анцифров Никита Сергеевич"
   }
  ],
  "group": "ИУ5-61Б",
  "kernelspec": {
   "display_name": "Python 3 (ipykernel)",
   "language": "python",
   "name": "python3"
  },
  "lab_number": 3,
  "language_info": {
   "codemirror_mode": {
    "name": "ipython",
    "version": 3
   },
   "file_extension": ".py",
   "mimetype": "text/x-python",
   "name": "python",
   "nbconvert_exporter": "python",
   "pygments_lexer": "ipython3",
   "version": "3.12.3"
  },
  "title": "Подготовка обучающей и тестовой выборки, кросс-валидация и подбор гиперпараметров на примере метода ближайших соседей"
 },
 "nbformat": 4,
 "nbformat_minor": 5
}
